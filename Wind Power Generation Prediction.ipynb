{
 "cells": [
  {
   "cell_type": "markdown",
   "id": "e99463c5",
   "metadata": {},
   "source": [
    " ## Importing The Modules        "
   ]
  },
  {
   "cell_type": "code",
   "execution_count": 73,
   "id": "efca7a2f",
   "metadata": {},
   "outputs": [],
   "source": [
    "import pandas as pd\n",
    "import numpy as np\n",
    "import pandas as pd\n",
    "import matplotlib.pyplot as plt\n",
    "import xgboost as xgb\n",
    "from sklearn.base import TransformerMixin\n",
    "from scipy.sparse import csr_matrix\n",
    "from scipy.sparse import hstack\n",
    "import joblib\n",
    "from sklearn.pipeline import Pipeline\n",
    "import seaborn as sns"
   ]
  },
  {
   "cell_type": "code",
   "execution_count": 74,
   "id": "8a34c3b7",
   "metadata": {},
   "outputs": [],
   "source": [
    "pd.options.display.max_rows = 1000\n",
    "pd.options.display.max_columns = None"
   ]
  },
  {
   "cell_type": "markdown",
   "id": "c1ef1e6c",
   "metadata": {},
   "source": [
    "## Reading the Data\n"
   ]
  },
  {
   "cell_type": "code",
   "execution_count": 75,
   "id": "a6141a48",
   "metadata": {},
   "outputs": [],
   "source": [
    "multidf = pd.read_excel('Datathon_Uretim_Tahmini_Verisi.xlsx',sheet_name=[0,1,2,3])"
   ]
  },
  {
   "cell_type": "code",
   "execution_count": 76,
   "id": "b130b8d0",
   "metadata": {},
   "outputs": [],
   "source": [
    "forecastdf = multidf[0]\n",
    "actualdf = multidf[1]\n",
    "availabilitydf = multidf[2]\n",
    "inputdf = multidf[3]"
   ]
  },
  {
   "cell_type": "code",
   "execution_count": 77,
   "id": "2eb75b26",
   "metadata": {},
   "outputs": [
    {
     "data": {
      "text/html": [
       "<div>\n",
       "<style scoped>\n",
       "    .dataframe tbody tr th:only-of-type {\n",
       "        vertical-align: middle;\n",
       "    }\n",
       "\n",
       "    .dataframe tbody tr th {\n",
       "        vertical-align: top;\n",
       "    }\n",
       "\n",
       "    .dataframe thead th {\n",
       "        text-align: right;\n",
       "    }\n",
       "</style>\n",
       "<table border=\"1\" class=\"dataframe\">\n",
       "  <thead>\n",
       "    <tr style=\"text-align: right;\">\n",
       "      <th></th>\n",
       "      <th>Datekey</th>\n",
       "      <th>Hour</th>\n",
       "      <th>ProviderId</th>\n",
       "      <th>WindSpeed</th>\n",
       "      <th>WindDirection</th>\n",
       "      <th>Temperature</th>\n",
       "      <th>Pressure</th>\n",
       "      <th>Humidity</th>\n",
       "      <th>Power Forecast</th>\n",
       "    </tr>\n",
       "  </thead>\n",
       "  <tbody>\n",
       "    <tr>\n",
       "      <th>0</th>\n",
       "      <td>20210601</td>\n",
       "      <td>00:00:00</td>\n",
       "      <td>1</td>\n",
       "      <td>3.50</td>\n",
       "      <td>12.00</td>\n",
       "      <td>13.90</td>\n",
       "      <td>99384</td>\n",
       "      <td>93.010</td>\n",
       "      <td>6.608</td>\n",
       "    </tr>\n",
       "    <tr>\n",
       "      <th>1</th>\n",
       "      <td>20210601</td>\n",
       "      <td>00:00:00</td>\n",
       "      <td>2</td>\n",
       "      <td>2.81</td>\n",
       "      <td>47.88</td>\n",
       "      <td>15.17</td>\n",
       "      <td>99493</td>\n",
       "      <td>0.985</td>\n",
       "      <td>12.375</td>\n",
       "    </tr>\n",
       "    <tr>\n",
       "      <th>2</th>\n",
       "      <td>20210601</td>\n",
       "      <td>00:00:00</td>\n",
       "      <td>3</td>\n",
       "      <td>4.80</td>\n",
       "      <td>30.00</td>\n",
       "      <td>16.00</td>\n",
       "      <td>95700</td>\n",
       "      <td>0.920</td>\n",
       "      <td>11.038</td>\n",
       "    </tr>\n",
       "    <tr>\n",
       "      <th>3</th>\n",
       "      <td>20210601</td>\n",
       "      <td>01:00:00</td>\n",
       "      <td>1</td>\n",
       "      <td>3.40</td>\n",
       "      <td>3.00</td>\n",
       "      <td>13.80</td>\n",
       "      <td>99364</td>\n",
       "      <td>93.150</td>\n",
       "      <td>6.628</td>\n",
       "    </tr>\n",
       "    <tr>\n",
       "      <th>4</th>\n",
       "      <td>20210601</td>\n",
       "      <td>01:00:00</td>\n",
       "      <td>2</td>\n",
       "      <td>2.87</td>\n",
       "      <td>47.78</td>\n",
       "      <td>14.92</td>\n",
       "      <td>99463</td>\n",
       "      <td>0.986</td>\n",
       "      <td>11.819</td>\n",
       "    </tr>\n",
       "  </tbody>\n",
       "</table>\n",
       "</div>"
      ],
      "text/plain": [
       "    Datekey      Hour  ProviderId  WindSpeed  WindDirection  Temperature  \\\n",
       "0  20210601  00:00:00           1       3.50          12.00        13.90   \n",
       "1  20210601  00:00:00           2       2.81          47.88        15.17   \n",
       "2  20210601  00:00:00           3       4.80          30.00        16.00   \n",
       "3  20210601  01:00:00           1       3.40           3.00        13.80   \n",
       "4  20210601  01:00:00           2       2.87          47.78        14.92   \n",
       "\n",
       "   Pressure  Humidity  Power Forecast  \n",
       "0     99384    93.010           6.608  \n",
       "1     99493     0.985          12.375  \n",
       "2     95700     0.920          11.038  \n",
       "3     99364    93.150           6.628  \n",
       "4     99463     0.986          11.819  "
      ]
     },
     "execution_count": 77,
     "metadata": {},
     "output_type": "execute_result"
    }
   ],
   "source": [
    "forecastdf.head()"
   ]
  },
  {
   "cell_type": "code",
   "execution_count": 78,
   "id": "cccdcb85",
   "metadata": {},
   "outputs": [
    {
     "data": {
      "text/html": [
       "<div>\n",
       "<style scoped>\n",
       "    .dataframe tbody tr th:only-of-type {\n",
       "        vertical-align: middle;\n",
       "    }\n",
       "\n",
       "    .dataframe tbody tr th {\n",
       "        vertical-align: top;\n",
       "    }\n",
       "\n",
       "    .dataframe thead th {\n",
       "        text-align: right;\n",
       "    }\n",
       "</style>\n",
       "<table border=\"1\" class=\"dataframe\">\n",
       "  <thead>\n",
       "    <tr style=\"text-align: right;\">\n",
       "      <th></th>\n",
       "      <th>PowerDate</th>\n",
       "      <th>PowerDateKey</th>\n",
       "      <th>PowerHour</th>\n",
       "      <th>Actual Generation</th>\n",
       "    </tr>\n",
       "  </thead>\n",
       "  <tbody>\n",
       "    <tr>\n",
       "      <th>0</th>\n",
       "      <td>2021-06-01</td>\n",
       "      <td>20210601</td>\n",
       "      <td>00:00:00</td>\n",
       "      <td>21.378</td>\n",
       "    </tr>\n",
       "    <tr>\n",
       "      <th>1</th>\n",
       "      <td>2021-06-01</td>\n",
       "      <td>20210601</td>\n",
       "      <td>01:00:00</td>\n",
       "      <td>17.391</td>\n",
       "    </tr>\n",
       "    <tr>\n",
       "      <th>2</th>\n",
       "      <td>2021-06-01</td>\n",
       "      <td>20210601</td>\n",
       "      <td>02:00:00</td>\n",
       "      <td>54.585</td>\n",
       "    </tr>\n",
       "    <tr>\n",
       "      <th>3</th>\n",
       "      <td>2021-06-01</td>\n",
       "      <td>20210601</td>\n",
       "      <td>03:00:00</td>\n",
       "      <td>50.111</td>\n",
       "    </tr>\n",
       "    <tr>\n",
       "      <th>4</th>\n",
       "      <td>2021-06-01</td>\n",
       "      <td>20210601</td>\n",
       "      <td>04:00:00</td>\n",
       "      <td>60.271</td>\n",
       "    </tr>\n",
       "  </tbody>\n",
       "</table>\n",
       "</div>"
      ],
      "text/plain": [
       "   PowerDate  PowerDateKey PowerHour  Actual Generation\n",
       "0 2021-06-01      20210601  00:00:00             21.378\n",
       "1 2021-06-01      20210601  01:00:00             17.391\n",
       "2 2021-06-01      20210601  02:00:00             54.585\n",
       "3 2021-06-01      20210601  03:00:00             50.111\n",
       "4 2021-06-01      20210601  04:00:00             60.271"
      ]
     },
     "execution_count": 78,
     "metadata": {},
     "output_type": "execute_result"
    }
   ],
   "source": [
    "actualdf.head()"
   ]
  },
  {
   "cell_type": "markdown",
   "id": "1318b90d",
   "metadata": {},
   "source": [
    "# Merging the Data\n"
   ]
  },
  {
   "cell_type": "code",
   "execution_count": 79,
   "id": "fbce0270",
   "metadata": {},
   "outputs": [],
   "source": [
    "merged_df = forecastdf.merge(actualdf,left_on=['Datekey','Hour'],right_on=['PowerDateKey','PowerHour']) \\\n",
    "            .merge(availabilitydf,left_on=['Datekey','Hour'],right_on=['AvailabilityDateKey','AvailabilityHour'])"
   ]
  },
  {
   "cell_type": "code",
   "execution_count": 80,
   "id": "00a17bd8",
   "metadata": {},
   "outputs": [
    {
     "data": {
      "text/html": [
       "<div>\n",
       "<style scoped>\n",
       "    .dataframe tbody tr th:only-of-type {\n",
       "        vertical-align: middle;\n",
       "    }\n",
       "\n",
       "    .dataframe tbody tr th {\n",
       "        vertical-align: top;\n",
       "    }\n",
       "\n",
       "    .dataframe thead th {\n",
       "        text-align: right;\n",
       "    }\n",
       "</style>\n",
       "<table border=\"1\" class=\"dataframe\">\n",
       "  <thead>\n",
       "    <tr style=\"text-align: right;\">\n",
       "      <th></th>\n",
       "      <th>Datekey</th>\n",
       "      <th>Hour</th>\n",
       "      <th>ProviderId</th>\n",
       "      <th>WindSpeed</th>\n",
       "      <th>WindDirection</th>\n",
       "      <th>Temperature</th>\n",
       "      <th>Pressure</th>\n",
       "      <th>Humidity</th>\n",
       "      <th>Power Forecast</th>\n",
       "      <th>PowerDate</th>\n",
       "      <th>PowerDateKey</th>\n",
       "      <th>PowerHour</th>\n",
       "      <th>Actual Generation</th>\n",
       "      <th>AvailabilityDateKey</th>\n",
       "      <th>AvailabilityDate</th>\n",
       "      <th>AvailabilityHour</th>\n",
       "      <th>RealAvailabilityPerc (%)</th>\n",
       "    </tr>\n",
       "  </thead>\n",
       "  <tbody>\n",
       "    <tr>\n",
       "      <th>0</th>\n",
       "      <td>20210601</td>\n",
       "      <td>00:00:00</td>\n",
       "      <td>1</td>\n",
       "      <td>3.50</td>\n",
       "      <td>12.00</td>\n",
       "      <td>13.90</td>\n",
       "      <td>99384</td>\n",
       "      <td>93.010</td>\n",
       "      <td>6.608</td>\n",
       "      <td>2021-06-01</td>\n",
       "      <td>20210601</td>\n",
       "      <td>00:00:00</td>\n",
       "      <td>21.378</td>\n",
       "      <td>20210601</td>\n",
       "      <td>2021-06-01</td>\n",
       "      <td>00:00:00</td>\n",
       "      <td>95.89</td>\n",
       "    </tr>\n",
       "    <tr>\n",
       "      <th>1</th>\n",
       "      <td>20210601</td>\n",
       "      <td>00:00:00</td>\n",
       "      <td>2</td>\n",
       "      <td>2.81</td>\n",
       "      <td>47.88</td>\n",
       "      <td>15.17</td>\n",
       "      <td>99493</td>\n",
       "      <td>0.985</td>\n",
       "      <td>12.375</td>\n",
       "      <td>2021-06-01</td>\n",
       "      <td>20210601</td>\n",
       "      <td>00:00:00</td>\n",
       "      <td>21.378</td>\n",
       "      <td>20210601</td>\n",
       "      <td>2021-06-01</td>\n",
       "      <td>00:00:00</td>\n",
       "      <td>95.89</td>\n",
       "    </tr>\n",
       "    <tr>\n",
       "      <th>2</th>\n",
       "      <td>20210601</td>\n",
       "      <td>00:00:00</td>\n",
       "      <td>3</td>\n",
       "      <td>4.80</td>\n",
       "      <td>30.00</td>\n",
       "      <td>16.00</td>\n",
       "      <td>95700</td>\n",
       "      <td>0.920</td>\n",
       "      <td>11.038</td>\n",
       "      <td>2021-06-01</td>\n",
       "      <td>20210601</td>\n",
       "      <td>00:00:00</td>\n",
       "      <td>21.378</td>\n",
       "      <td>20210601</td>\n",
       "      <td>2021-06-01</td>\n",
       "      <td>00:00:00</td>\n",
       "      <td>95.89</td>\n",
       "    </tr>\n",
       "    <tr>\n",
       "      <th>3</th>\n",
       "      <td>20210601</td>\n",
       "      <td>01:00:00</td>\n",
       "      <td>1</td>\n",
       "      <td>3.40</td>\n",
       "      <td>3.00</td>\n",
       "      <td>13.80</td>\n",
       "      <td>99364</td>\n",
       "      <td>93.150</td>\n",
       "      <td>6.628</td>\n",
       "      <td>2021-06-01</td>\n",
       "      <td>20210601</td>\n",
       "      <td>01:00:00</td>\n",
       "      <td>17.391</td>\n",
       "      <td>20210601</td>\n",
       "      <td>2021-06-01</td>\n",
       "      <td>01:00:00</td>\n",
       "      <td>86.55</td>\n",
       "    </tr>\n",
       "    <tr>\n",
       "      <th>4</th>\n",
       "      <td>20210601</td>\n",
       "      <td>01:00:00</td>\n",
       "      <td>2</td>\n",
       "      <td>2.87</td>\n",
       "      <td>47.78</td>\n",
       "      <td>14.92</td>\n",
       "      <td>99463</td>\n",
       "      <td>0.986</td>\n",
       "      <td>11.819</td>\n",
       "      <td>2021-06-01</td>\n",
       "      <td>20210601</td>\n",
       "      <td>01:00:00</td>\n",
       "      <td>17.391</td>\n",
       "      <td>20210601</td>\n",
       "      <td>2021-06-01</td>\n",
       "      <td>01:00:00</td>\n",
       "      <td>86.55</td>\n",
       "    </tr>\n",
       "  </tbody>\n",
       "</table>\n",
       "</div>"
      ],
      "text/plain": [
       "    Datekey      Hour  ProviderId  WindSpeed  WindDirection  Temperature  \\\n",
       "0  20210601  00:00:00           1       3.50          12.00        13.90   \n",
       "1  20210601  00:00:00           2       2.81          47.88        15.17   \n",
       "2  20210601  00:00:00           3       4.80          30.00        16.00   \n",
       "3  20210601  01:00:00           1       3.40           3.00        13.80   \n",
       "4  20210601  01:00:00           2       2.87          47.78        14.92   \n",
       "\n",
       "   Pressure  Humidity  Power Forecast  PowerDate  PowerDateKey PowerHour  \\\n",
       "0     99384    93.010           6.608 2021-06-01      20210601  00:00:00   \n",
       "1     99493     0.985          12.375 2021-06-01      20210601  00:00:00   \n",
       "2     95700     0.920          11.038 2021-06-01      20210601  00:00:00   \n",
       "3     99364    93.150           6.628 2021-06-01      20210601  01:00:00   \n",
       "4     99463     0.986          11.819 2021-06-01      20210601  01:00:00   \n",
       "\n",
       "   Actual Generation  AvailabilityDateKey AvailabilityDate AvailabilityHour  \\\n",
       "0             21.378             20210601       2021-06-01         00:00:00   \n",
       "1             21.378             20210601       2021-06-01         00:00:00   \n",
       "2             21.378             20210601       2021-06-01         00:00:00   \n",
       "3             17.391             20210601       2021-06-01         01:00:00   \n",
       "4             17.391             20210601       2021-06-01         01:00:00   \n",
       "\n",
       "   RealAvailabilityPerc (%)  \n",
       "0                     95.89  \n",
       "1                     95.89  \n",
       "2                     95.89  \n",
       "3                     86.55  \n",
       "4                     86.55  "
      ]
     },
     "execution_count": 80,
     "metadata": {},
     "output_type": "execute_result"
    }
   ],
   "source": [
    "merged_df.head()"
   ]
  },
  {
   "cell_type": "markdown",
   "id": "9965b930",
   "metadata": {},
   "source": [
    "# Drop unnecessary columns"
   ]
  },
  {
   "cell_type": "code",
   "execution_count": 81,
   "id": "d845f98a",
   "metadata": {},
   "outputs": [],
   "source": [
    "drop_columns=['PowerDate','PowerDateKey','PowerHour','AvailabilityDateKey','AvailabilityDate','AvailabilityHour']"
   ]
  },
  {
   "cell_type": "code",
   "execution_count": 82,
   "id": "05e7bb48",
   "metadata": {},
   "outputs": [],
   "source": [
    "merged_df = merged_df.drop(columns = drop_columns)"
   ]
  },
  {
   "cell_type": "code",
   "execution_count": 83,
   "id": "6eecdec0",
   "metadata": {},
   "outputs": [
    {
     "data": {
      "text/html": [
       "<div>\n",
       "<style scoped>\n",
       "    .dataframe tbody tr th:only-of-type {\n",
       "        vertical-align: middle;\n",
       "    }\n",
       "\n",
       "    .dataframe tbody tr th {\n",
       "        vertical-align: top;\n",
       "    }\n",
       "\n",
       "    .dataframe thead th {\n",
       "        text-align: right;\n",
       "    }\n",
       "</style>\n",
       "<table border=\"1\" class=\"dataframe\">\n",
       "  <thead>\n",
       "    <tr style=\"text-align: right;\">\n",
       "      <th></th>\n",
       "      <th>Datekey</th>\n",
       "      <th>Hour</th>\n",
       "      <th>ProviderId</th>\n",
       "      <th>WindSpeed</th>\n",
       "      <th>WindDirection</th>\n",
       "      <th>Temperature</th>\n",
       "      <th>Pressure</th>\n",
       "      <th>Humidity</th>\n",
       "      <th>Power Forecast</th>\n",
       "      <th>Actual Generation</th>\n",
       "      <th>RealAvailabilityPerc (%)</th>\n",
       "    </tr>\n",
       "  </thead>\n",
       "  <tbody>\n",
       "    <tr>\n",
       "      <th>0</th>\n",
       "      <td>20210601</td>\n",
       "      <td>00:00:00</td>\n",
       "      <td>1</td>\n",
       "      <td>3.50</td>\n",
       "      <td>12.00</td>\n",
       "      <td>13.90</td>\n",
       "      <td>99384</td>\n",
       "      <td>93.010</td>\n",
       "      <td>6.608</td>\n",
       "      <td>21.378</td>\n",
       "      <td>95.89</td>\n",
       "    </tr>\n",
       "    <tr>\n",
       "      <th>1</th>\n",
       "      <td>20210601</td>\n",
       "      <td>00:00:00</td>\n",
       "      <td>2</td>\n",
       "      <td>2.81</td>\n",
       "      <td>47.88</td>\n",
       "      <td>15.17</td>\n",
       "      <td>99493</td>\n",
       "      <td>0.985</td>\n",
       "      <td>12.375</td>\n",
       "      <td>21.378</td>\n",
       "      <td>95.89</td>\n",
       "    </tr>\n",
       "    <tr>\n",
       "      <th>2</th>\n",
       "      <td>20210601</td>\n",
       "      <td>00:00:00</td>\n",
       "      <td>3</td>\n",
       "      <td>4.80</td>\n",
       "      <td>30.00</td>\n",
       "      <td>16.00</td>\n",
       "      <td>95700</td>\n",
       "      <td>0.920</td>\n",
       "      <td>11.038</td>\n",
       "      <td>21.378</td>\n",
       "      <td>95.89</td>\n",
       "    </tr>\n",
       "    <tr>\n",
       "      <th>3</th>\n",
       "      <td>20210601</td>\n",
       "      <td>01:00:00</td>\n",
       "      <td>1</td>\n",
       "      <td>3.40</td>\n",
       "      <td>3.00</td>\n",
       "      <td>13.80</td>\n",
       "      <td>99364</td>\n",
       "      <td>93.150</td>\n",
       "      <td>6.628</td>\n",
       "      <td>17.391</td>\n",
       "      <td>86.55</td>\n",
       "    </tr>\n",
       "    <tr>\n",
       "      <th>4</th>\n",
       "      <td>20210601</td>\n",
       "      <td>01:00:00</td>\n",
       "      <td>2</td>\n",
       "      <td>2.87</td>\n",
       "      <td>47.78</td>\n",
       "      <td>14.92</td>\n",
       "      <td>99463</td>\n",
       "      <td>0.986</td>\n",
       "      <td>11.819</td>\n",
       "      <td>17.391</td>\n",
       "      <td>86.55</td>\n",
       "    </tr>\n",
       "    <tr>\n",
       "      <th>...</th>\n",
       "      <td>...</td>\n",
       "      <td>...</td>\n",
       "      <td>...</td>\n",
       "      <td>...</td>\n",
       "      <td>...</td>\n",
       "      <td>...</td>\n",
       "      <td>...</td>\n",
       "      <td>...</td>\n",
       "      <td>...</td>\n",
       "      <td>...</td>\n",
       "      <td>...</td>\n",
       "    </tr>\n",
       "    <tr>\n",
       "      <th>24151</th>\n",
       "      <td>20220531</td>\n",
       "      <td>22:00:00</td>\n",
       "      <td>2</td>\n",
       "      <td>2.85</td>\n",
       "      <td>36.00</td>\n",
       "      <td>19.58</td>\n",
       "      <td>99999</td>\n",
       "      <td>0.957</td>\n",
       "      <td>32.552</td>\n",
       "      <td>46.288</td>\n",
       "      <td>98.75</td>\n",
       "    </tr>\n",
       "    <tr>\n",
       "      <th>24152</th>\n",
       "      <td>20220531</td>\n",
       "      <td>22:00:00</td>\n",
       "      <td>3</td>\n",
       "      <td>6.50</td>\n",
       "      <td>30.00</td>\n",
       "      <td>19.00</td>\n",
       "      <td>96200</td>\n",
       "      <td>0.830</td>\n",
       "      <td>53.034</td>\n",
       "      <td>46.288</td>\n",
       "      <td>98.75</td>\n",
       "    </tr>\n",
       "    <tr>\n",
       "      <th>24153</th>\n",
       "      <td>20220531</td>\n",
       "      <td>23:00:00</td>\n",
       "      <td>1</td>\n",
       "      <td>7.30</td>\n",
       "      <td>36.00</td>\n",
       "      <td>19.20</td>\n",
       "      <td>100208</td>\n",
       "      <td>84.310</td>\n",
       "      <td>37.983</td>\n",
       "      <td>38.540</td>\n",
       "      <td>98.28</td>\n",
       "    </tr>\n",
       "    <tr>\n",
       "      <th>24154</th>\n",
       "      <td>20220531</td>\n",
       "      <td>23:00:00</td>\n",
       "      <td>2</td>\n",
       "      <td>3.00</td>\n",
       "      <td>33.49</td>\n",
       "      <td>19.16</td>\n",
       "      <td>100022</td>\n",
       "      <td>0.970</td>\n",
       "      <td>30.641</td>\n",
       "      <td>38.540</td>\n",
       "      <td>98.28</td>\n",
       "    </tr>\n",
       "    <tr>\n",
       "      <th>24155</th>\n",
       "      <td>20220531</td>\n",
       "      <td>23:00:00</td>\n",
       "      <td>3</td>\n",
       "      <td>6.30</td>\n",
       "      <td>30.00</td>\n",
       "      <td>19.00</td>\n",
       "      <td>96200</td>\n",
       "      <td>0.850</td>\n",
       "      <td>48.335</td>\n",
       "      <td>38.540</td>\n",
       "      <td>98.28</td>\n",
       "    </tr>\n",
       "  </tbody>\n",
       "</table>\n",
       "<p>24156 rows × 11 columns</p>\n",
       "</div>"
      ],
      "text/plain": [
       "        Datekey      Hour  ProviderId  WindSpeed  WindDirection  Temperature  \\\n",
       "0      20210601  00:00:00           1       3.50          12.00        13.90   \n",
       "1      20210601  00:00:00           2       2.81          47.88        15.17   \n",
       "2      20210601  00:00:00           3       4.80          30.00        16.00   \n",
       "3      20210601  01:00:00           1       3.40           3.00        13.80   \n",
       "4      20210601  01:00:00           2       2.87          47.78        14.92   \n",
       "...         ...       ...         ...        ...            ...          ...   \n",
       "24151  20220531  22:00:00           2       2.85          36.00        19.58   \n",
       "24152  20220531  22:00:00           3       6.50          30.00        19.00   \n",
       "24153  20220531  23:00:00           1       7.30          36.00        19.20   \n",
       "24154  20220531  23:00:00           2       3.00          33.49        19.16   \n",
       "24155  20220531  23:00:00           3       6.30          30.00        19.00   \n",
       "\n",
       "       Pressure  Humidity  Power Forecast  Actual Generation  \\\n",
       "0         99384    93.010           6.608             21.378   \n",
       "1         99493     0.985          12.375             21.378   \n",
       "2         95700     0.920          11.038             21.378   \n",
       "3         99364    93.150           6.628             17.391   \n",
       "4         99463     0.986          11.819             17.391   \n",
       "...         ...       ...             ...                ...   \n",
       "24151     99999     0.957          32.552             46.288   \n",
       "24152     96200     0.830          53.034             46.288   \n",
       "24153    100208    84.310          37.983             38.540   \n",
       "24154    100022     0.970          30.641             38.540   \n",
       "24155     96200     0.850          48.335             38.540   \n",
       "\n",
       "       RealAvailabilityPerc (%)  \n",
       "0                         95.89  \n",
       "1                         95.89  \n",
       "2                         95.89  \n",
       "3                         86.55  \n",
       "4                         86.55  \n",
       "...                         ...  \n",
       "24151                     98.75  \n",
       "24152                     98.75  \n",
       "24153                     98.28  \n",
       "24154                     98.28  \n",
       "24155                     98.28  \n",
       "\n",
       "[24156 rows x 11 columns]"
      ]
     },
     "execution_count": 83,
     "metadata": {},
     "output_type": "execute_result"
    }
   ],
   "source": [
    "merged_df"
   ]
  },
  {
   "cell_type": "markdown",
   "id": "1c26205a",
   "metadata": {},
   "source": [
    "# Upscaling the Generations"
   ]
  },
  {
   "cell_type": "code",
   "execution_count": 84,
   "id": "599b1a6b",
   "metadata": {},
   "outputs": [],
   "source": [
    "merged_df['Upscaled Generation'] = merged_df['Actual Generation']*100/merged_df['RealAvailabilityPerc (%)']"
   ]
  },
  {
   "cell_type": "markdown",
   "id": "587bf702",
   "metadata": {},
   "source": [
    "\n",
    "# Creating New Feature From Forecast and Upscaled Generation "
   ]
  },
  {
   "cell_type": "code",
   "execution_count": 85,
   "id": "a5876779",
   "metadata": {},
   "outputs": [],
   "source": [
    "merged_df['Deviation'] = (- merged_df['Upscaled Generation'] + merged_df['Power Forecast'])/merged_df['Upscaled Generation']"
   ]
  },
  {
   "cell_type": "markdown",
   "id": "1aa59be6",
   "metadata": {},
   "source": [
    "# Na Values Filled With 1 "
   ]
  },
  {
   "cell_type": "code",
   "execution_count": 86,
   "id": "0fd0b01b",
   "metadata": {},
   "outputs": [],
   "source": [
    "merged_df['Deviation'] = merged_df['Deviation'].fillna(1)"
   ]
  },
  {
   "cell_type": "code",
   "execution_count": 87,
   "id": "ae0cc83d",
   "metadata": {},
   "outputs": [],
   "source": [
    "merged_df.loc[merged_df['Deviation'] == np.inf,'Deviation'] = 1"
   ]
  },
  {
   "cell_type": "code",
   "execution_count": 88,
   "id": "32f80068",
   "metadata": {},
   "outputs": [
    {
     "data": {
      "text/html": [
       "<div>\n",
       "<style scoped>\n",
       "    .dataframe tbody tr th:only-of-type {\n",
       "        vertical-align: middle;\n",
       "    }\n",
       "\n",
       "    .dataframe tbody tr th {\n",
       "        vertical-align: top;\n",
       "    }\n",
       "\n",
       "    .dataframe thead th {\n",
       "        text-align: right;\n",
       "    }\n",
       "</style>\n",
       "<table border=\"1\" class=\"dataframe\">\n",
       "  <thead>\n",
       "    <tr style=\"text-align: right;\">\n",
       "      <th></th>\n",
       "      <th>Datekey</th>\n",
       "      <th>Hour</th>\n",
       "      <th>ProviderId</th>\n",
       "      <th>WindSpeed</th>\n",
       "      <th>WindDirection</th>\n",
       "      <th>Temperature</th>\n",
       "      <th>Pressure</th>\n",
       "      <th>Humidity</th>\n",
       "      <th>Power Forecast</th>\n",
       "      <th>Actual Generation</th>\n",
       "      <th>RealAvailabilityPerc (%)</th>\n",
       "      <th>Upscaled Generation</th>\n",
       "      <th>Deviation</th>\n",
       "    </tr>\n",
       "  </thead>\n",
       "  <tbody>\n",
       "    <tr>\n",
       "      <th>0</th>\n",
       "      <td>20210601</td>\n",
       "      <td>00:00:00</td>\n",
       "      <td>1</td>\n",
       "      <td>3.50</td>\n",
       "      <td>12.00</td>\n",
       "      <td>13.90</td>\n",
       "      <td>99384</td>\n",
       "      <td>93.010</td>\n",
       "      <td>6.608</td>\n",
       "      <td>21.378</td>\n",
       "      <td>95.89</td>\n",
       "      <td>22.294296</td>\n",
       "      <td>-0.703601</td>\n",
       "    </tr>\n",
       "    <tr>\n",
       "      <th>1</th>\n",
       "      <td>20210601</td>\n",
       "      <td>00:00:00</td>\n",
       "      <td>2</td>\n",
       "      <td>2.81</td>\n",
       "      <td>47.88</td>\n",
       "      <td>15.17</td>\n",
       "      <td>99493</td>\n",
       "      <td>0.985</td>\n",
       "      <td>12.375</td>\n",
       "      <td>21.378</td>\n",
       "      <td>95.89</td>\n",
       "      <td>22.294296</td>\n",
       "      <td>-0.444925</td>\n",
       "    </tr>\n",
       "    <tr>\n",
       "      <th>2</th>\n",
       "      <td>20210601</td>\n",
       "      <td>00:00:00</td>\n",
       "      <td>3</td>\n",
       "      <td>4.80</td>\n",
       "      <td>30.00</td>\n",
       "      <td>16.00</td>\n",
       "      <td>95700</td>\n",
       "      <td>0.920</td>\n",
       "      <td>11.038</td>\n",
       "      <td>21.378</td>\n",
       "      <td>95.89</td>\n",
       "      <td>22.294296</td>\n",
       "      <td>-0.504896</td>\n",
       "    </tr>\n",
       "    <tr>\n",
       "      <th>3</th>\n",
       "      <td>20210601</td>\n",
       "      <td>01:00:00</td>\n",
       "      <td>1</td>\n",
       "      <td>3.40</td>\n",
       "      <td>3.00</td>\n",
       "      <td>13.80</td>\n",
       "      <td>99364</td>\n",
       "      <td>93.150</td>\n",
       "      <td>6.628</td>\n",
       "      <td>17.391</td>\n",
       "      <td>86.55</td>\n",
       "      <td>20.093588</td>\n",
       "      <td>-0.670144</td>\n",
       "    </tr>\n",
       "    <tr>\n",
       "      <th>4</th>\n",
       "      <td>20210601</td>\n",
       "      <td>01:00:00</td>\n",
       "      <td>2</td>\n",
       "      <td>2.87</td>\n",
       "      <td>47.78</td>\n",
       "      <td>14.92</td>\n",
       "      <td>99463</td>\n",
       "      <td>0.986</td>\n",
       "      <td>11.819</td>\n",
       "      <td>17.391</td>\n",
       "      <td>86.55</td>\n",
       "      <td>20.093588</td>\n",
       "      <td>-0.411802</td>\n",
       "    </tr>\n",
       "    <tr>\n",
       "      <th>...</th>\n",
       "      <td>...</td>\n",
       "      <td>...</td>\n",
       "      <td>...</td>\n",
       "      <td>...</td>\n",
       "      <td>...</td>\n",
       "      <td>...</td>\n",
       "      <td>...</td>\n",
       "      <td>...</td>\n",
       "      <td>...</td>\n",
       "      <td>...</td>\n",
       "      <td>...</td>\n",
       "      <td>...</td>\n",
       "      <td>...</td>\n",
       "    </tr>\n",
       "    <tr>\n",
       "      <th>24151</th>\n",
       "      <td>20220531</td>\n",
       "      <td>22:00:00</td>\n",
       "      <td>2</td>\n",
       "      <td>2.85</td>\n",
       "      <td>36.00</td>\n",
       "      <td>19.58</td>\n",
       "      <td>99999</td>\n",
       "      <td>0.957</td>\n",
       "      <td>32.552</td>\n",
       "      <td>46.288</td>\n",
       "      <td>98.75</td>\n",
       "      <td>46.873924</td>\n",
       "      <td>-0.305541</td>\n",
       "    </tr>\n",
       "    <tr>\n",
       "      <th>24152</th>\n",
       "      <td>20220531</td>\n",
       "      <td>22:00:00</td>\n",
       "      <td>3</td>\n",
       "      <td>6.50</td>\n",
       "      <td>30.00</td>\n",
       "      <td>19.00</td>\n",
       "      <td>96200</td>\n",
       "      <td>0.830</td>\n",
       "      <td>53.034</td>\n",
       "      <td>46.288</td>\n",
       "      <td>98.75</td>\n",
       "      <td>46.873924</td>\n",
       "      <td>0.131418</td>\n",
       "    </tr>\n",
       "    <tr>\n",
       "      <th>24153</th>\n",
       "      <td>20220531</td>\n",
       "      <td>23:00:00</td>\n",
       "      <td>1</td>\n",
       "      <td>7.30</td>\n",
       "      <td>36.00</td>\n",
       "      <td>19.20</td>\n",
       "      <td>100208</td>\n",
       "      <td>84.310</td>\n",
       "      <td>37.983</td>\n",
       "      <td>38.540</td>\n",
       "      <td>98.28</td>\n",
       "      <td>39.214489</td>\n",
       "      <td>-0.031404</td>\n",
       "    </tr>\n",
       "    <tr>\n",
       "      <th>24154</th>\n",
       "      <td>20220531</td>\n",
       "      <td>23:00:00</td>\n",
       "      <td>2</td>\n",
       "      <td>3.00</td>\n",
       "      <td>33.49</td>\n",
       "      <td>19.16</td>\n",
       "      <td>100022</td>\n",
       "      <td>0.970</td>\n",
       "      <td>30.641</td>\n",
       "      <td>38.540</td>\n",
       "      <td>98.28</td>\n",
       "      <td>39.214489</td>\n",
       "      <td>-0.218631</td>\n",
       "    </tr>\n",
       "    <tr>\n",
       "      <th>24155</th>\n",
       "      <td>20220531</td>\n",
       "      <td>23:00:00</td>\n",
       "      <td>3</td>\n",
       "      <td>6.30</td>\n",
       "      <td>30.00</td>\n",
       "      <td>19.00</td>\n",
       "      <td>96200</td>\n",
       "      <td>0.850</td>\n",
       "      <td>48.335</td>\n",
       "      <td>38.540</td>\n",
       "      <td>98.28</td>\n",
       "      <td>39.214489</td>\n",
       "      <td>0.232580</td>\n",
       "    </tr>\n",
       "  </tbody>\n",
       "</table>\n",
       "<p>24156 rows × 13 columns</p>\n",
       "</div>"
      ],
      "text/plain": [
       "        Datekey      Hour  ProviderId  WindSpeed  WindDirection  Temperature  \\\n",
       "0      20210601  00:00:00           1       3.50          12.00        13.90   \n",
       "1      20210601  00:00:00           2       2.81          47.88        15.17   \n",
       "2      20210601  00:00:00           3       4.80          30.00        16.00   \n",
       "3      20210601  01:00:00           1       3.40           3.00        13.80   \n",
       "4      20210601  01:00:00           2       2.87          47.78        14.92   \n",
       "...         ...       ...         ...        ...            ...          ...   \n",
       "24151  20220531  22:00:00           2       2.85          36.00        19.58   \n",
       "24152  20220531  22:00:00           3       6.50          30.00        19.00   \n",
       "24153  20220531  23:00:00           1       7.30          36.00        19.20   \n",
       "24154  20220531  23:00:00           2       3.00          33.49        19.16   \n",
       "24155  20220531  23:00:00           3       6.30          30.00        19.00   \n",
       "\n",
       "       Pressure  Humidity  Power Forecast  Actual Generation  \\\n",
       "0         99384    93.010           6.608             21.378   \n",
       "1         99493     0.985          12.375             21.378   \n",
       "2         95700     0.920          11.038             21.378   \n",
       "3         99364    93.150           6.628             17.391   \n",
       "4         99463     0.986          11.819             17.391   \n",
       "...         ...       ...             ...                ...   \n",
       "24151     99999     0.957          32.552             46.288   \n",
       "24152     96200     0.830          53.034             46.288   \n",
       "24153    100208    84.310          37.983             38.540   \n",
       "24154    100022     0.970          30.641             38.540   \n",
       "24155     96200     0.850          48.335             38.540   \n",
       "\n",
       "       RealAvailabilityPerc (%)  Upscaled Generation  Deviation  \n",
       "0                         95.89            22.294296  -0.703601  \n",
       "1                         95.89            22.294296  -0.444925  \n",
       "2                         95.89            22.294296  -0.504896  \n",
       "3                         86.55            20.093588  -0.670144  \n",
       "4                         86.55            20.093588  -0.411802  \n",
       "...                         ...                  ...        ...  \n",
       "24151                     98.75            46.873924  -0.305541  \n",
       "24152                     98.75            46.873924   0.131418  \n",
       "24153                     98.28            39.214489  -0.031404  \n",
       "24154                     98.28            39.214489  -0.218631  \n",
       "24155                     98.28            39.214489   0.232580  \n",
       "\n",
       "[24156 rows x 13 columns]"
      ]
     },
     "execution_count": 88,
     "metadata": {},
     "output_type": "execute_result"
    }
   ],
   "source": [
    "merged_df"
   ]
  },
  {
   "cell_type": "code",
   "execution_count": 89,
   "id": "e12310fa",
   "metadata": {},
   "outputs": [],
   "source": [
    "y = merged_df['Deviation'].value_counts()"
   ]
  },
  {
   "cell_type": "markdown",
   "id": "38408c30",
   "metadata": {},
   "source": [
    "# Check if there is a Connection Between Deviation WindSpeed\n"
   ]
  },
  {
   "cell_type": "code",
   "execution_count": 90,
   "id": "ec107d53",
   "metadata": {},
   "outputs": [
    {
     "data": {
      "text/plain": [
       "<AxesSubplot:>"
      ]
     },
     "execution_count": 90,
     "metadata": {},
     "output_type": "execute_result"
    },
    {
     "data": {
      "image/png": "[encoded data removed]",
      "text/plain": [
       "<Figure size 432x288 with 1 Axes>"
      ]
     },
     "metadata": {
      "needs_background": "light"
     },
     "output_type": "display_data"
    }
   ],
   "source": [
    "merged_df['WindSpeed'].plot(style='.')"
   ]
  },
  {
   "cell_type": "code",
   "execution_count": 32,
   "id": "6ba7aee6",
   "metadata": {},
   "outputs": [
    {
     "data": {
      "text/plain": [
       "<AxesSubplot:>"
      ]
     },
     "execution_count": 32,
     "metadata": {},
     "output_type": "execute_result"
    },
    {
     "data": {
      "image/png": "[encoded data removed]",
      "text/plain": [
       "<Figure size 432x288 with 1 Axes>"
      ]
     },
     "metadata": {
      "needs_background": "light"
     },
     "output_type": "display_data"
    }
   ],
   "source": [
    "merged_df.loc[merged_df['Deviation']>20,'WindSpeed'].plot(style='.')"
   ]
  },
  {
   "cell_type": "code",
   "execution_count": 34,
   "id": "41ccae4f",
   "metadata": {},
   "outputs": [
    {
     "data": {
      "text/html": [
       "<div>\n",
       "<style scoped>\n",
       "    .dataframe tbody tr th:only-of-type {\n",
       "        vertical-align: middle;\n",
       "    }\n",
       "\n",
       "    .dataframe tbody tr th {\n",
       "        vertical-align: top;\n",
       "    }\n",
       "\n",
       "    .dataframe thead th {\n",
       "        text-align: right;\n",
       "    }\n",
       "</style>\n",
       "<table border=\"1\" class=\"dataframe\">\n",
       "  <thead>\n",
       "    <tr style=\"text-align: right;\">\n",
       "      <th></th>\n",
       "      <th>Datekey</th>\n",
       "      <th>Hour</th>\n",
       "      <th>ProviderId</th>\n",
       "      <th>WindSpeed</th>\n",
       "      <th>WindDirection</th>\n",
       "      <th>Temperature</th>\n",
       "      <th>Pressure</th>\n",
       "      <th>Humidity</th>\n",
       "      <th>Power Forecast</th>\n",
       "      <th>Actual Generation</th>\n",
       "      <th>RealAvailabilityPerc (%)</th>\n",
       "      <th>Upscaled Generation</th>\n",
       "      <th>Sapma</th>\n",
       "    </tr>\n",
       "  </thead>\n",
       "  <tbody>\n",
       "    <tr>\n",
       "      <th>23986</th>\n",
       "      <td>20220529</td>\n",
       "      <td>15:00:00</td>\n",
       "      <td>2</td>\n",
       "      <td>2.48</td>\n",
       "      <td>55.37</td>\n",
       "      <td>30.88</td>\n",
       "      <td>99213</td>\n",
       "      <td>0.861</td>\n",
       "      <td>9.485</td>\n",
       "      <td>0.057</td>\n",
       "      <td>98.95</td>\n",
       "      <td>0.057605</td>\n",
       "      <td>163.656272</td>\n",
       "    </tr>\n",
       "    <tr>\n",
       "      <th>23987</th>\n",
       "      <td>20220529</td>\n",
       "      <td>15:00:00</td>\n",
       "      <td>3</td>\n",
       "      <td>4.10</td>\n",
       "      <td>60.00</td>\n",
       "      <td>26.00</td>\n",
       "      <td>95700</td>\n",
       "      <td>0.470</td>\n",
       "      <td>23.532</td>\n",
       "      <td>0.057</td>\n",
       "      <td>98.95</td>\n",
       "      <td>0.057605</td>\n",
       "      <td>407.507263</td>\n",
       "    </tr>\n",
       "    <tr>\n",
       "      <th>24054</th>\n",
       "      <td>20220530</td>\n",
       "      <td>14:00:00</td>\n",
       "      <td>1</td>\n",
       "      <td>4.60</td>\n",
       "      <td>280.00</td>\n",
       "      <td>27.30</td>\n",
       "      <td>99538</td>\n",
       "      <td>49.610</td>\n",
       "      <td>4.913</td>\n",
       "      <td>0.001</td>\n",
       "      <td>93.55</td>\n",
       "      <td>0.001069</td>\n",
       "      <td>4595.111500</td>\n",
       "    </tr>\n",
       "    <tr>\n",
       "      <th>24055</th>\n",
       "      <td>20220530</td>\n",
       "      <td>14:00:00</td>\n",
       "      <td>2</td>\n",
       "      <td>2.83</td>\n",
       "      <td>343.20</td>\n",
       "      <td>25.99</td>\n",
       "      <td>99524</td>\n",
       "      <td>0.849</td>\n",
       "      <td>5.388</td>\n",
       "      <td>0.001</td>\n",
       "      <td>93.55</td>\n",
       "      <td>0.001069</td>\n",
       "      <td>5039.474000</td>\n",
       "    </tr>\n",
       "    <tr>\n",
       "      <th>24056</th>\n",
       "      <td>20220530</td>\n",
       "      <td>14:00:00</td>\n",
       "      <td>3</td>\n",
       "      <td>4.50</td>\n",
       "      <td>315.00</td>\n",
       "      <td>23.00</td>\n",
       "      <td>95800</td>\n",
       "      <td>0.460</td>\n",
       "      <td>10.660</td>\n",
       "      <td>0.001</td>\n",
       "      <td>93.55</td>\n",
       "      <td>0.001069</td>\n",
       "      <td>9971.430000</td>\n",
       "    </tr>\n",
       "  </tbody>\n",
       "</table>\n",
       "</div>"
      ],
      "text/plain": [
       "        Datekey      Hour  ProviderId  WindSpeed  WindDirection  Temperature  \\\n",
       "23986  20220529  15:00:00           2       2.48          55.37        30.88   \n",
       "23987  20220529  15:00:00           3       4.10          60.00        26.00   \n",
       "24054  20220530  14:00:00           1       4.60         280.00        27.30   \n",
       "24055  20220530  14:00:00           2       2.83         343.20        25.99   \n",
       "24056  20220530  14:00:00           3       4.50         315.00        23.00   \n",
       "\n",
       "       Pressure  Humidity  Power Forecast  Actual Generation  \\\n",
       "23986     99213     0.861           9.485              0.057   \n",
       "23987     95700     0.470          23.532              0.057   \n",
       "24054     99538    49.610           4.913              0.001   \n",
       "24055     99524     0.849           5.388              0.001   \n",
       "24056     95800     0.460          10.660              0.001   \n",
       "\n",
       "       RealAvailabilityPerc (%)  Upscaled Generation        Sapma  \n",
       "23986                     98.95             0.057605   163.656272  \n",
       "23987                     98.95             0.057605   407.507263  \n",
       "24054                     93.55             0.001069  4595.111500  \n",
       "24055                     93.55             0.001069  5039.474000  \n",
       "24056                     93.55             0.001069  9971.430000  "
      ]
     },
     "execution_count": 34,
     "metadata": {},
     "output_type": "execute_result"
    }
   ],
   "source": [
    "merged_df[merged_df['Deviation']>50].tail()"
   ]
  },
  {
   "cell_type": "markdown",
   "id": "a9042319",
   "metadata": {},
   "source": [
    "## Correlations with Heatmap\n"
   ]
  },
  {
   "cell_type": "code",
   "execution_count": 151,
   "id": "0ad7332f",
   "metadata": {},
   "outputs": [
    {
     "data": {
      "text/plain": [
       "<AxesSubplot:>"
      ]
     },
     "execution_count": 151,
     "metadata": {},
     "output_type": "execute_result"
    },
    {
     "data": {
      "image/png": "[encoded data removed]",
      "text/plain": [
       "<Figure size 432x288 with 2 Axes>"
      ]
     },
     "metadata": {
      "needs_background": "light"
     },
     "output_type": "display_data"
    }
   ],
   "source": [
    "sns.heatmap(merged_df.corr())"
   ]
  },
  {
   "cell_type": "markdown",
   "id": "2acc1d20",
   "metadata": {},
   "source": [
    "## Corelations with Actual Generation"
   ]
  },
  {
   "cell_type": "code",
   "execution_count": 91,
   "id": "968f39a6",
   "metadata": {},
   "outputs": [
    {
     "data": {
      "text/plain": [
       "Datekey                    -1.242841e-02\n",
       "ProviderId                  5.000548e-16\n",
       "WindSpeed                   7.534725e-01\n",
       "WindDirection              -1.716171e-01\n",
       "Temperature                -1.352281e-01\n",
       "Pressure                    1.266046e-02\n",
       "Humidity                    1.249898e-02\n",
       "Power Forecast              8.577351e-01\n",
       "Actual Generation           1.000000e+00\n",
       "RealAvailabilityPerc (%)    6.135360e-02\n",
       "Upscaled Generation         9.468032e-01\n",
       "Deviation                  -6.173181e-02\n",
       "Name: Actual Generation, dtype: float64"
      ]
     },
     "execution_count": 91,
     "metadata": {},
     "output_type": "execute_result"
    }
   ],
   "source": [
    "merged_df.corr()['Actual Generation']"
   ]
  },
  {
   "cell_type": "markdown",
   "id": "998f9337",
   "metadata": {},
   "source": [
    "## Creation of Filters for Time-Series Analysis Based on PowerForecast and WindSpeed datas.\n",
    "\n"
   ]
  },
  {
   "cell_type": "code",
   "execution_count": 36,
   "id": "b51fbdd6",
   "metadata": {},
   "outputs": [
    {
     "data": {
      "text/plain": [
       "68.061"
      ]
     },
     "execution_count": 36,
     "metadata": {},
     "output_type": "execute_result"
    }
   ],
   "source": [
    "inputdf['PowerForecast'].max()"
   ]
  },
  {
   "cell_type": "code",
   "execution_count": 37,
   "id": "6ee50b49",
   "metadata": {},
   "outputs": [
    {
     "data": {
      "text/plain": [
       "34.396"
      ]
     },
     "execution_count": 37,
     "metadata": {},
     "output_type": "execute_result"
    }
   ],
   "source": [
    "inputdf['PowerForecast'].min()"
   ]
  },
  {
   "cell_type": "code",
   "execution_count": 38,
   "id": "61ebc6fd",
   "metadata": {},
   "outputs": [
    {
     "data": {
      "text/plain": [
       "11.0"
      ]
     },
     "execution_count": 38,
     "metadata": {},
     "output_type": "execute_result"
    }
   ],
   "source": [
    "inputdf['WindSpeed'].max()"
   ]
  },
  {
   "cell_type": "code",
   "execution_count": 39,
   "id": "199c6ffb",
   "metadata": {},
   "outputs": [
    {
     "data": {
      "text/plain": [
       "4.26"
      ]
     },
     "execution_count": 39,
     "metadata": {},
     "output_type": "execute_result"
    }
   ],
   "source": [
    "inputdf['WindSpeed'].min()"
   ]
  },
  {
   "cell_type": "code",
   "execution_count": 40,
   "id": "d042a5eb",
   "metadata": {},
   "outputs": [
    {
     "data": {
      "text/html": [
       "<div>\n",
       "<style scoped>\n",
       "    .dataframe tbody tr th:only-of-type {\n",
       "        vertical-align: middle;\n",
       "    }\n",
       "\n",
       "    .dataframe tbody tr th {\n",
       "        vertical-align: top;\n",
       "    }\n",
       "\n",
       "    .dataframe thead th {\n",
       "        text-align: right;\n",
       "    }\n",
       "</style>\n",
       "<table border=\"1\" class=\"dataframe\">\n",
       "  <thead>\n",
       "    <tr style=\"text-align: right;\">\n",
       "      <th></th>\n",
       "      <th>Datekey</th>\n",
       "      <th>Hour</th>\n",
       "      <th>ProviderId</th>\n",
       "      <th>WindSpeed</th>\n",
       "      <th>WindDirection</th>\n",
       "      <th>Temperature</th>\n",
       "      <th>Pressure</th>\n",
       "      <th>Humidity</th>\n",
       "      <th>Power Forecast</th>\n",
       "      <th>Actual Generation</th>\n",
       "      <th>RealAvailabilityPerc (%)</th>\n",
       "      <th>Upscaled Generation</th>\n",
       "      <th>Sapma</th>\n",
       "    </tr>\n",
       "  </thead>\n",
       "  <tbody>\n",
       "    <tr>\n",
       "      <th>24151</th>\n",
       "      <td>20220531</td>\n",
       "      <td>22:00:00</td>\n",
       "      <td>2</td>\n",
       "      <td>2.85</td>\n",
       "      <td>36.00</td>\n",
       "      <td>19.58</td>\n",
       "      <td>99999</td>\n",
       "      <td>0.957</td>\n",
       "      <td>32.552</td>\n",
       "      <td>46.288</td>\n",
       "      <td>98.75</td>\n",
       "      <td>46.873924</td>\n",
       "      <td>-0.305541</td>\n",
       "    </tr>\n",
       "    <tr>\n",
       "      <th>24152</th>\n",
       "      <td>20220531</td>\n",
       "      <td>22:00:00</td>\n",
       "      <td>3</td>\n",
       "      <td>6.50</td>\n",
       "      <td>30.00</td>\n",
       "      <td>19.00</td>\n",
       "      <td>96200</td>\n",
       "      <td>0.830</td>\n",
       "      <td>53.034</td>\n",
       "      <td>46.288</td>\n",
       "      <td>98.75</td>\n",
       "      <td>46.873924</td>\n",
       "      <td>0.131418</td>\n",
       "    </tr>\n",
       "    <tr>\n",
       "      <th>24153</th>\n",
       "      <td>20220531</td>\n",
       "      <td>23:00:00</td>\n",
       "      <td>1</td>\n",
       "      <td>7.30</td>\n",
       "      <td>36.00</td>\n",
       "      <td>19.20</td>\n",
       "      <td>100208</td>\n",
       "      <td>84.310</td>\n",
       "      <td>37.983</td>\n",
       "      <td>38.540</td>\n",
       "      <td>98.28</td>\n",
       "      <td>39.214489</td>\n",
       "      <td>-0.031404</td>\n",
       "    </tr>\n",
       "    <tr>\n",
       "      <th>24154</th>\n",
       "      <td>20220531</td>\n",
       "      <td>23:00:00</td>\n",
       "      <td>2</td>\n",
       "      <td>3.00</td>\n",
       "      <td>33.49</td>\n",
       "      <td>19.16</td>\n",
       "      <td>100022</td>\n",
       "      <td>0.970</td>\n",
       "      <td>30.641</td>\n",
       "      <td>38.540</td>\n",
       "      <td>98.28</td>\n",
       "      <td>39.214489</td>\n",
       "      <td>-0.218631</td>\n",
       "    </tr>\n",
       "    <tr>\n",
       "      <th>24155</th>\n",
       "      <td>20220531</td>\n",
       "      <td>23:00:00</td>\n",
       "      <td>3</td>\n",
       "      <td>6.30</td>\n",
       "      <td>30.00</td>\n",
       "      <td>19.00</td>\n",
       "      <td>96200</td>\n",
       "      <td>0.850</td>\n",
       "      <td>48.335</td>\n",
       "      <td>38.540</td>\n",
       "      <td>98.28</td>\n",
       "      <td>39.214489</td>\n",
       "      <td>0.232580</td>\n",
       "    </tr>\n",
       "  </tbody>\n",
       "</table>\n",
       "</div>"
      ],
      "text/plain": [
       "        Datekey      Hour  ProviderId  WindSpeed  WindDirection  Temperature  \\\n",
       "24151  20220531  22:00:00           2       2.85          36.00        19.58   \n",
       "24152  20220531  22:00:00           3       6.50          30.00        19.00   \n",
       "24153  20220531  23:00:00           1       7.30          36.00        19.20   \n",
       "24154  20220531  23:00:00           2       3.00          33.49        19.16   \n",
       "24155  20220531  23:00:00           3       6.30          30.00        19.00   \n",
       "\n",
       "       Pressure  Humidity  Power Forecast  Actual Generation  \\\n",
       "24151     99999     0.957          32.552             46.288   \n",
       "24152     96200     0.830          53.034             46.288   \n",
       "24153    100208    84.310          37.983             38.540   \n",
       "24154    100022     0.970          30.641             38.540   \n",
       "24155     96200     0.850          48.335             38.540   \n",
       "\n",
       "       RealAvailabilityPerc (%)  Upscaled Generation     Sapma  \n",
       "24151                     98.75            46.873924 -0.305541  \n",
       "24152                     98.75            46.873924  0.131418  \n",
       "24153                     98.28            39.214489 -0.031404  \n",
       "24154                     98.28            39.214489 -0.218631  \n",
       "24155                     98.28            39.214489  0.232580  "
      ]
     },
     "execution_count": 40,
     "metadata": {},
     "output_type": "execute_result"
    }
   ],
   "source": [
    "merged_df.tail()"
   ]
  },
  {
   "cell_type": "markdown",
   "id": "58c4b100",
   "metadata": {},
   "source": [
    "## The PowerForecast values were filtered according to the values we found.\n",
    "\n"
   ]
  },
  {
   "cell_type": "code",
   "execution_count": 92,
   "id": "7bda3059",
   "metadata": {},
   "outputs": [],
   "source": [
    "filtered_df = merged_df[(merged_df['Power Forecast']<70) & (merged_df['Power Forecast']>30)]"
   ]
  },
  {
   "cell_type": "markdown",
   "id": "ea2c6162",
   "metadata": {},
   "source": [
    "## ProviderId2's Deviation values were too high "
   ]
  },
  {
   "cell_type": "code",
   "execution_count": 93,
   "id": "c1dfc337",
   "metadata": {},
   "outputs": [
    {
     "data": {
      "text/plain": [
       "2    273\n",
       "1     91\n",
       "3     80\n",
       "Name: ProviderId, dtype: int64"
      ]
     },
     "execution_count": 93,
     "metadata": {},
     "output_type": "execute_result"
    }
   ],
   "source": [
    "filtered_df.loc[filtered_df['Deviation']>2,'ProviderId'].value_counts()"
   ]
  },
  {
   "cell_type": "markdown",
   "id": "77db596b",
   "metadata": {},
   "source": [
    "# It was decided not to include ProviderId2 in the model. "
   ]
  },
  {
   "cell_type": "code",
   "execution_count": 94,
   "id": "1e5167e9",
   "metadata": {},
   "outputs": [],
   "source": [
    "filtered_df = filtered_df[filtered_df['ProviderId'] != 2]"
   ]
  },
  {
   "cell_type": "markdown",
   "id": "6079db60",
   "metadata": {},
   "source": [
    "# After we deleted ProviderId2 Deviation values were decreased\n"
   ]
  },
  {
   "cell_type": "code",
   "execution_count": 96,
   "id": "80892335",
   "metadata": {},
   "outputs": [
    {
     "data": {
      "text/plain": [
       "<AxesSubplot:>"
      ]
     },
     "execution_count": 96,
     "metadata": {},
     "output_type": "execute_result"
    },
    {
     "data": {
      "image/png": "[encoded data removed]",
      "text/plain": [
       "<Figure size 432x288 with 1 Axes>"
      ]
     },
     "metadata": {
      "needs_background": "light"
     },
     "output_type": "display_data"
    }
   ],
   "source": [
    "filtered_df.loc[filtered_df['Deviation']<50,'Deviation'].plot(style='.')"
   ]
  },
  {
   "cell_type": "markdown",
   "id": "2c5d3cbe",
   "metadata": {},
   "source": [
    "## May June July months were chosen due to the seasonality of wind energy production."
   ]
  },
  {
   "cell_type": "code",
   "execution_count": 98,
   "id": "63d777d6",
   "metadata": {},
   "outputs": [],
   "source": [
    "filtered_df = filtered_df[(filtered_df['Datekey']<20210801) | (filtered_df['Datekey']>20220500)]"
   ]
  },
  {
   "cell_type": "code",
   "execution_count": 99,
   "id": "a64a01d0",
   "metadata": {},
   "outputs": [
    {
     "data": {
      "text/plain": [
       "<AxesSubplot:>"
      ]
     },
     "execution_count": 99,
     "metadata": {},
     "output_type": "execute_result"
    },
    {
     "data": {
      "image/png": "[encoded data removed]",
      "text/plain": [
       "<Figure size 432x288 with 1 Axes>"
      ]
     },
     "metadata": {
      "needs_background": "light"
     },
     "output_type": "display_data"
    }
   ],
   "source": [
    "filtered_df['Deviation'].plot(style='.')"
   ]
  },
  {
   "cell_type": "code",
   "execution_count": 100,
   "id": "f91f8900",
   "metadata": {},
   "outputs": [],
   "source": [
    "df2 = filtered_df.copy()"
   ]
  },
  {
   "cell_type": "code",
   "execution_count": 101,
   "id": "b4d38435",
   "metadata": {},
   "outputs": [],
   "source": [
    "df_test = inputdf.copy()"
   ]
  },
  {
   "cell_type": "markdown",
   "id": "e27bbe25",
   "metadata": {},
   "source": [
    "## Creating Features for Time Series Analysis\n"
   ]
  },
  {
   "cell_type": "code",
   "execution_count": 113,
   "id": "3b0f33db",
   "metadata": {},
   "outputs": [],
   "source": [
    "def create_features(df, label=None):\n",
    "    df['dayofweek'] = df['Datekey'].dt.dayofweek\n",
    "    df['quarter'] = df['Datekey'].dt.quarter\n",
    "    df['month'] = df['Datekey'].dt.month\n",
    "    df['year'] = df['Datekey'].dt.year\n",
    "    df['dayofyear'] = df['Datekey'].dt.dayofyear\n",
    "    df['dayofmonth'] = df['Datekey'].dt.day\n",
    "    df['weekofyear'] = df['Datekey'].dt.weekofyear\n",
    "    X = df[['dayofweek','quarter','month','year',\n",
    "           'dayofyear','dayofmonth','weekofyear']]\n",
    "    if label:\n",
    "        y = df[label]\n",
    "        return X, y\n",
    "    return X"
   ]
  },
  {
   "cell_type": "code",
   "execution_count": 114,
   "id": "cb855997",
   "metadata": {},
   "outputs": [
    {
     "data": {
      "text/html": [
       "<div>\n",
       "<style scoped>\n",
       "    .dataframe tbody tr th:only-of-type {\n",
       "        vertical-align: middle;\n",
       "    }\n",
       "\n",
       "    .dataframe tbody tr th {\n",
       "        vertical-align: top;\n",
       "    }\n",
       "\n",
       "    .dataframe thead th {\n",
       "        text-align: right;\n",
       "    }\n",
       "</style>\n",
       "<table border=\"1\" class=\"dataframe\">\n",
       "  <thead>\n",
       "    <tr style=\"text-align: right;\">\n",
       "      <th></th>\n",
       "      <th>Datekey</th>\n",
       "      <th>Hour</th>\n",
       "      <th>ProviderId</th>\n",
       "      <th>WindSpeed</th>\n",
       "      <th>WindDirection</th>\n",
       "      <th>Temperature</th>\n",
       "      <th>Pressure</th>\n",
       "      <th>Humidity</th>\n",
       "      <th>Power Forecast</th>\n",
       "      <th>Actual Generation</th>\n",
       "      <th>RealAvailabilityPerc (%)</th>\n",
       "      <th>Upscaled Generation</th>\n",
       "      <th>Deviation</th>\n",
       "      <th>dayofweek</th>\n",
       "      <th>quarter</th>\n",
       "      <th>month</th>\n",
       "      <th>year</th>\n",
       "      <th>dayofyear</th>\n",
       "      <th>dayofmonth</th>\n",
       "      <th>weekofyear</th>\n",
       "    </tr>\n",
       "  </thead>\n",
       "  <tbody>\n",
       "    <tr>\n",
       "      <th>24</th>\n",
       "      <td>2021-06-01</td>\n",
       "      <td>08:00:00</td>\n",
       "      <td>1</td>\n",
       "      <td>5.9</td>\n",
       "      <td>343.0</td>\n",
       "      <td>13.9</td>\n",
       "      <td>99532</td>\n",
       "      <td>92.74</td>\n",
       "      <td>34.968</td>\n",
       "      <td>39.090</td>\n",
       "      <td>96.71</td>\n",
       "      <td>40.419812</td>\n",
       "      <td>-0.134880</td>\n",
       "      <td>1</td>\n",
       "      <td>2</td>\n",
       "      <td>6</td>\n",
       "      <td>2021</td>\n",
       "      <td>152</td>\n",
       "      <td>1</td>\n",
       "      <td>22</td>\n",
       "    </tr>\n",
       "    <tr>\n",
       "      <th>27</th>\n",
       "      <td>2021-06-01</td>\n",
       "      <td>09:00:00</td>\n",
       "      <td>1</td>\n",
       "      <td>6.6</td>\n",
       "      <td>346.0</td>\n",
       "      <td>14.1</td>\n",
       "      <td>99546</td>\n",
       "      <td>92.11</td>\n",
       "      <td>32.014</td>\n",
       "      <td>37.697</td>\n",
       "      <td>96.71</td>\n",
       "      <td>38.979423</td>\n",
       "      <td>-0.178695</td>\n",
       "      <td>1</td>\n",
       "      <td>2</td>\n",
       "      <td>6</td>\n",
       "      <td>2021</td>\n",
       "      <td>152</td>\n",
       "      <td>1</td>\n",
       "      <td>22</td>\n",
       "    </tr>\n",
       "    <tr>\n",
       "      <th>29</th>\n",
       "      <td>2021-06-01</td>\n",
       "      <td>09:00:00</td>\n",
       "      <td>3</td>\n",
       "      <td>7.2</td>\n",
       "      <td>330.0</td>\n",
       "      <td>13.0</td>\n",
       "      <td>95700</td>\n",
       "      <td>0.84</td>\n",
       "      <td>30.272</td>\n",
       "      <td>37.697</td>\n",
       "      <td>96.71</td>\n",
       "      <td>38.979423</td>\n",
       "      <td>-0.223385</td>\n",
       "      <td>1</td>\n",
       "      <td>2</td>\n",
       "      <td>6</td>\n",
       "      <td>2021</td>\n",
       "      <td>152</td>\n",
       "      <td>1</td>\n",
       "      <td>22</td>\n",
       "    </tr>\n",
       "    <tr>\n",
       "      <th>30</th>\n",
       "      <td>2021-06-01</td>\n",
       "      <td>10:00:00</td>\n",
       "      <td>1</td>\n",
       "      <td>7.0</td>\n",
       "      <td>345.0</td>\n",
       "      <td>14.4</td>\n",
       "      <td>99564</td>\n",
       "      <td>91.97</td>\n",
       "      <td>40.648</td>\n",
       "      <td>18.941</td>\n",
       "      <td>96.16</td>\n",
       "      <td>19.697379</td>\n",
       "      <td>1.063625</td>\n",
       "      <td>1</td>\n",
       "      <td>2</td>\n",
       "      <td>6</td>\n",
       "      <td>2021</td>\n",
       "      <td>152</td>\n",
       "      <td>1</td>\n",
       "      <td>22</td>\n",
       "    </tr>\n",
       "    <tr>\n",
       "      <th>96</th>\n",
       "      <td>2021-06-02</td>\n",
       "      <td>08:00:00</td>\n",
       "      <td>1</td>\n",
       "      <td>5.7</td>\n",
       "      <td>340.0</td>\n",
       "      <td>13.1</td>\n",
       "      <td>100228</td>\n",
       "      <td>77.97</td>\n",
       "      <td>30.848</td>\n",
       "      <td>26.973</td>\n",
       "      <td>94.51</td>\n",
       "      <td>28.539837</td>\n",
       "      <td>0.080875</td>\n",
       "      <td>2</td>\n",
       "      <td>2</td>\n",
       "      <td>6</td>\n",
       "      <td>2021</td>\n",
       "      <td>153</td>\n",
       "      <td>2</td>\n",
       "      <td>22</td>\n",
       "    </tr>\n",
       "  </tbody>\n",
       "</table>\n",
       "</div>"
      ],
      "text/plain": [
       "      Datekey      Hour  ProviderId  WindSpeed  WindDirection  Temperature  \\\n",
       "24 2021-06-01  08:00:00           1        5.9          343.0         13.9   \n",
       "27 2021-06-01  09:00:00           1        6.6          346.0         14.1   \n",
       "29 2021-06-01  09:00:00           3        7.2          330.0         13.0   \n",
       "30 2021-06-01  10:00:00           1        7.0          345.0         14.4   \n",
       "96 2021-06-02  08:00:00           1        5.7          340.0         13.1   \n",
       "\n",
       "    Pressure  Humidity  Power Forecast  Actual Generation  \\\n",
       "24     99532     92.74          34.968             39.090   \n",
       "27     99546     92.11          32.014             37.697   \n",
       "29     95700      0.84          30.272             37.697   \n",
       "30     99564     91.97          40.648             18.941   \n",
       "96    100228     77.97          30.848             26.973   \n",
       "\n",
       "    RealAvailabilityPerc (%)  Upscaled Generation  Deviation  dayofweek  \\\n",
       "24                     96.71            40.419812  -0.134880          1   \n",
       "27                     96.71            38.979423  -0.178695          1   \n",
       "29                     96.71            38.979423  -0.223385          1   \n",
       "30                     96.16            19.697379   1.063625          1   \n",
       "96                     94.51            28.539837   0.080875          2   \n",
       "\n",
       "    quarter  month  year  dayofyear  dayofmonth  weekofyear  \n",
       "24        2      6  2021        152           1          22  \n",
       "27        2      6  2021        152           1          22  \n",
       "29        2      6  2021        152           1          22  \n",
       "30        2      6  2021        152           1          22  \n",
       "96        2      6  2021        153           2          22  "
      ]
     },
     "execution_count": 114,
     "metadata": {},
     "output_type": "execute_result"
    }
   ],
   "source": [
    "df2['Datekey'] = pd.to_datetime(df2['Datekey'].astype(str).str[:10])\n",
    "df2.head()"
   ]
  },
  {
   "cell_type": "code",
   "execution_count": 115,
   "id": "584e390d",
   "metadata": {},
   "outputs": [
    {
     "data": {
      "text/html": [
       "<div>\n",
       "<style scoped>\n",
       "    .dataframe tbody tr th:only-of-type {\n",
       "        vertical-align: middle;\n",
       "    }\n",
       "\n",
       "    .dataframe tbody tr th {\n",
       "        vertical-align: top;\n",
       "    }\n",
       "\n",
       "    .dataframe thead th {\n",
       "        text-align: right;\n",
       "    }\n",
       "</style>\n",
       "<table border=\"1\" class=\"dataframe\">\n",
       "  <thead>\n",
       "    <tr style=\"text-align: right;\">\n",
       "      <th></th>\n",
       "      <th>Datekey</th>\n",
       "      <th>Hour</th>\n",
       "      <th>ProviderId</th>\n",
       "      <th>WindSpeed</th>\n",
       "      <th>WindDirection</th>\n",
       "      <th>Temperature</th>\n",
       "      <th>Pressure</th>\n",
       "      <th>Humidity</th>\n",
       "      <th>PowerForecast</th>\n",
       "    </tr>\n",
       "  </thead>\n",
       "  <tbody>\n",
       "    <tr>\n",
       "      <th>0</th>\n",
       "      <td>2022-06-04</td>\n",
       "      <td>00:00:00</td>\n",
       "      <td>1</td>\n",
       "      <td>9.40</td>\n",
       "      <td>34.00</td>\n",
       "      <td>17.60</td>\n",
       "      <td>99875</td>\n",
       "      <td>93.830</td>\n",
       "      <td>57.601</td>\n",
       "    </tr>\n",
       "    <tr>\n",
       "      <th>1</th>\n",
       "      <td>2022-06-04</td>\n",
       "      <td>00:00:00</td>\n",
       "      <td>2</td>\n",
       "      <td>4.86</td>\n",
       "      <td>21.27</td>\n",
       "      <td>18.85</td>\n",
       "      <td>100045</td>\n",
       "      <td>0.978</td>\n",
       "      <td>50.297</td>\n",
       "    </tr>\n",
       "    <tr>\n",
       "      <th>2</th>\n",
       "      <td>2022-06-04</td>\n",
       "      <td>00:00:00</td>\n",
       "      <td>3</td>\n",
       "      <td>8.10</td>\n",
       "      <td>30.00</td>\n",
       "      <td>18.00</td>\n",
       "      <td>96300</td>\n",
       "      <td>0.920</td>\n",
       "      <td>46.286</td>\n",
       "    </tr>\n",
       "    <tr>\n",
       "      <th>3</th>\n",
       "      <td>2022-06-04</td>\n",
       "      <td>01:00:00</td>\n",
       "      <td>1</td>\n",
       "      <td>9.30</td>\n",
       "      <td>32.00</td>\n",
       "      <td>17.60</td>\n",
       "      <td>99864</td>\n",
       "      <td>93.670</td>\n",
       "      <td>57.539</td>\n",
       "    </tr>\n",
       "    <tr>\n",
       "      <th>4</th>\n",
       "      <td>2022-06-04</td>\n",
       "      <td>01:00:00</td>\n",
       "      <td>2</td>\n",
       "      <td>4.93</td>\n",
       "      <td>21.81</td>\n",
       "      <td>18.82</td>\n",
       "      <td>100054</td>\n",
       "      <td>0.979</td>\n",
       "      <td>50.091</td>\n",
       "    </tr>\n",
       "  </tbody>\n",
       "</table>\n",
       "</div>"
      ],
      "text/plain": [
       "     Datekey      Hour  ProviderId  WindSpeed  WindDirection  Temperature  \\\n",
       "0 2022-06-04  00:00:00           1       9.40          34.00        17.60   \n",
       "1 2022-06-04  00:00:00           2       4.86          21.27        18.85   \n",
       "2 2022-06-04  00:00:00           3       8.10          30.00        18.00   \n",
       "3 2022-06-04  01:00:00           1       9.30          32.00        17.60   \n",
       "4 2022-06-04  01:00:00           2       4.93          21.81        18.82   \n",
       "\n",
       "   Pressure  Humidity  PowerForecast  \n",
       "0     99875    93.830         57.601  \n",
       "1    100045     0.978         50.297  \n",
       "2     96300     0.920         46.286  \n",
       "3     99864    93.670         57.539  \n",
       "4    100054     0.979         50.091  "
      ]
     },
     "execution_count": 115,
     "metadata": {},
     "output_type": "execute_result"
    }
   ],
   "source": [
    "df_test['Datekey'] = pd.to_datetime(df_test['Datekey'].astype(str).str[:10])\n",
    "df_test.head()"
   ]
  },
  {
   "cell_type": "code",
   "execution_count": 116,
   "id": "62473bbe",
   "metadata": {},
   "outputs": [
    {
     "name": "stderr",
     "output_type": "stream",
     "text": [
      "C:\\Users\\enes_\\AppData\\Local\\Temp\\ipykernel_10728\\2488819214.py:8: FutureWarning: Series.dt.weekofyear and Series.dt.week have been deprecated. Please use Series.dt.isocalendar().week instead.\n",
      "  df['weekofyear'] = df['Datekey'].dt.weekofyear\n"
     ]
    }
   ],
   "source": [
    "df2_c = create_features(df2)"
   ]
  },
  {
   "cell_type": "code",
   "execution_count": 117,
   "id": "de869404",
   "metadata": {},
   "outputs": [
    {
     "ename": "NameError",
     "evalue": "name 'dfc' is not defined",
     "output_type": "error",
     "traceback": [
      "\u001b[1;31m---------------------------------------------------------------------------\u001b[0m",
      "\u001b[1;31mNameError\u001b[0m                                 Traceback (most recent call last)",
      "Input \u001b[1;32mIn [117]\u001b[0m, in \u001b[0;36m<cell line: 1>\u001b[1;34m()\u001b[0m\n\u001b[1;32m----> 1\u001b[0m df9\u001b[38;5;241m=\u001b[39m pd\u001b[38;5;241m.\u001b[39mconcat([\u001b[43mdfc\u001b[49m,df_test],axis\u001b[38;5;241m=\u001b[39m\u001b[38;5;241m1\u001b[39m)\n",
      "\u001b[1;31mNameError\u001b[0m: name 'dfc' is not defined"
     ]
    }
   ],
   "source": [
    "df9= pd.concat([dfc,df_test],axis=1)"
   ]
  },
  {
   "cell_type": "code",
   "execution_count": 118,
   "id": "9991b6fd",
   "metadata": {
    "scrolled": true
   },
   "outputs": [
    {
     "ename": "NameError",
     "evalue": "name 'df9' is not defined",
     "output_type": "error",
     "traceback": [
      "\u001b[1;31m---------------------------------------------------------------------------\u001b[0m",
      "\u001b[1;31mNameError\u001b[0m                                 Traceback (most recent call last)",
      "Input \u001b[1;32mIn [118]\u001b[0m, in \u001b[0;36m<cell line: 1>\u001b[1;34m()\u001b[0m\n\u001b[1;32m----> 1\u001b[0m df9 \u001b[38;5;241m=\u001b[39m \u001b[43mdf9\u001b[49m\u001b[38;5;241m.\u001b[39mdrop(columns\u001b[38;5;241m=\u001b[39m[\u001b[38;5;124m'\u001b[39m\u001b[38;5;124mDatekey\u001b[39m\u001b[38;5;124m'\u001b[39m])\n",
      "\u001b[1;31mNameError\u001b[0m: name 'df9' is not defined"
     ]
    }
   ],
   "source": [
    "df9 = df9.drop(columns=['Datekey'])"
   ]
  },
  {
   "cell_type": "code",
   "execution_count": 120,
   "id": "e998cbb6",
   "metadata": {},
   "outputs": [
    {
     "ename": "NameError",
     "evalue": "name 'df9' is not defined",
     "output_type": "error",
     "traceback": [
      "\u001b[1;31m---------------------------------------------------------------------------\u001b[0m",
      "\u001b[1;31mNameError\u001b[0m                                 Traceback (most recent call last)",
      "Input \u001b[1;32mIn [120]\u001b[0m, in \u001b[0;36m<cell line: 1>\u001b[1;34m()\u001b[0m\n\u001b[1;32m----> 1\u001b[0m df9[\u001b[38;5;124m'\u001b[39m\u001b[38;5;124mhour\u001b[39m\u001b[38;5;124m'\u001b[39m] \u001b[38;5;241m=\u001b[39m \u001b[43mdf9\u001b[49m[\u001b[38;5;124m'\u001b[39m\u001b[38;5;124mhour\u001b[39m\u001b[38;5;124m'\u001b[39m]\u001b[38;5;241m.\u001b[39mastype(\u001b[38;5;28mstr\u001b[39m)\n",
      "\u001b[1;31mNameError\u001b[0m: name 'df9' is not defined"
     ]
    }
   ],
   "source": [
    "df9['hour'] = df9['hour'].astype(str)\n",
    "df9['hour'] = df9['hour'].astype(str).str[:2]\n",
    "df9 = df9.drop(columns=['Hour'])"
   ]
  },
  {
   "cell_type": "code",
   "execution_count": 124,
   "id": "edd08bef",
   "metadata": {},
   "outputs": [
    {
     "ename": "NameError",
     "evalue": "name 'df9' is not defined",
     "output_type": "error",
     "traceback": [
      "\u001b[1;31m---------------------------------------------------------------------------\u001b[0m",
      "\u001b[1;31mNameError\u001b[0m                                 Traceback (most recent call last)",
      "Input \u001b[1;32mIn [124]\u001b[0m, in \u001b[0;36m<cell line: 1>\u001b[1;34m()\u001b[0m\n\u001b[1;32m----> 1\u001b[0m df9 \u001b[38;5;241m=\u001b[39m \u001b[43mdf9\u001b[49m[df9[\u001b[38;5;124m'\u001b[39m\u001b[38;5;124mProviderId\u001b[39m\u001b[38;5;124m'\u001b[39m] \u001b[38;5;241m!=\u001b[39m \u001b[38;5;241m2\u001b[39m]\n",
      "\u001b[1;31mNameError\u001b[0m: name 'df9' is not defined"
     ]
    }
   ],
   "source": [
    "df9 = df9[df9['ProviderId'] != 2]"
   ]
  },
  {
   "cell_type": "code",
   "execution_count": 125,
   "id": "c5f6b150",
   "metadata": {},
   "outputs": [
    {
     "ename": "NameError",
     "evalue": "name 'df9' is not defined",
     "output_type": "error",
     "traceback": [
      "\u001b[1;31m---------------------------------------------------------------------------\u001b[0m",
      "\u001b[1;31mNameError\u001b[0m                                 Traceback (most recent call last)",
      "Input \u001b[1;32mIn [125]\u001b[0m, in \u001b[0;36m<cell line: 1>\u001b[1;34m()\u001b[0m\n\u001b[1;32m----> 1\u001b[0m df9[\u001b[38;5;124m'\u001b[39m\u001b[38;5;124mhour\u001b[39m\u001b[38;5;124m'\u001b[39m] \u001b[38;5;241m=\u001b[39m \u001b[43mdf9\u001b[49m[\u001b[38;5;124m'\u001b[39m\u001b[38;5;124mhour\u001b[39m\u001b[38;5;124m'\u001b[39m]\u001b[38;5;241m.\u001b[39mastype(\u001b[38;5;28mint\u001b[39m)\n",
      "\u001b[1;31mNameError\u001b[0m: name 'df9' is not defined"
     ]
    }
   ],
   "source": [
    "df9['hour'] = df9['hour'].astype(int)"
   ]
  },
  {
   "cell_type": "code",
   "execution_count": 337,
   "id": "55f50109",
   "metadata": {},
   "outputs": [
    {
     "data": {
      "text/plain": [
       "(48, 15)"
      ]
     },
     "execution_count": 337,
     "metadata": {},
     "output_type": "execute_result"
    }
   ],
   "source": [
    "df9.shape"
   ]
  },
  {
   "cell_type": "code",
   "execution_count": 338,
   "id": "1b45016e",
   "metadata": {},
   "outputs": [
    {
     "data": {
      "text/plain": [
       "(880, 15)"
      ]
     },
     "execution_count": 338,
     "metadata": {},
     "output_type": "execute_result"
    }
   ],
   "source": [
    "X_train.shape"
   ]
  },
  {
   "cell_type": "code",
   "execution_count": 179,
   "id": "0f4f1ef2",
   "metadata": {},
   "outputs": [],
   "source": [
    "def create_features(df, label=None):\n",
    "    df['hour'] = df['Hour']\n",
    "    df['dayofweek'] = df['Datekey'].dt.dayofweek\n",
    "    df['quarter'] = df['Datekey'].dt.quarter\n",
    "    df['month'] = df['Datekey'].dt.month\n",
    "    df['year'] = df['Datekey'].dt.year\n",
    "    df['dayofyear'] = df['Datekey'].dt.dayofyear\n",
    "    df['dayofmonth'] = df['Datekey'].dt.day\n",
    "    df['weekofyear'] = df['Datekey'].dt.weekofyear\n",
    "    X = df[['hour','dayofweek','quarter','month','year',\n",
    "           'dayofyear','dayofmonth','weekofyear']]\n",
    "    if label:\n",
    "        y = df[label]\n",
    "        return X, y\n",
    "    return X"
   ]
  },
  {
   "cell_type": "code",
   "execution_count": 180,
   "id": "2d591264",
   "metadata": {},
   "outputs": [
    {
     "name": "stderr",
     "output_type": "stream",
     "text": [
      "/var/folders/62/w43vm99x0js0czbjx16552nm0000gn/T/ipykernel_18596/1749859428.py:9: FutureWarning: Series.dt.weekofyear and Series.dt.week have been deprecated. Please use Series.dt.isocalendar().week instead.\n",
      "  df['weekofyear'] = df['Datekey'].dt.weekofyear\n"
     ]
    }
   ],
   "source": [
    "df3 = create_features(df2)\n",
    "X_train, y_train = create_features(data_train, label='number')\n",
    "X_test, y_test = create_features(data_test, label='number')\n",
    "X_train\n",
    "Upscaled Generation"
   ]
  },
  {
   "cell_type": "code",
   "execution_count": 181,
   "id": "a294f017",
   "metadata": {},
   "outputs": [
    {
     "data": {
      "text/html": [
       "<div>\n",
       "<style scoped>\n",
       "    .dataframe tbody tr th:only-of-type {\n",
       "        vertical-align: middle;\n",
       "    }\n",
       "\n",
       "    .dataframe tbody tr th {\n",
       "        vertical-align: top;\n",
       "    }\n",
       "\n",
       "    .dataframe thead th {\n",
       "        text-align: right;\n",
       "    }\n",
       "</style>\n",
       "<table border=\"1\" class=\"dataframe\">\n",
       "  <thead>\n",
       "    <tr style=\"text-align: right;\">\n",
       "      <th></th>\n",
       "      <th>hour</th>\n",
       "      <th>dayofweek</th>\n",
       "      <th>quarter</th>\n",
       "      <th>month</th>\n",
       "      <th>year</th>\n",
       "      <th>dayofyear</th>\n",
       "      <th>dayofmonth</th>\n",
       "      <th>weekofyear</th>\n",
       "    </tr>\n",
       "  </thead>\n",
       "  <tbody>\n",
       "    <tr>\n",
       "      <th>24</th>\n",
       "      <td>08:00:00</td>\n",
       "      <td>1</td>\n",
       "      <td>2</td>\n",
       "      <td>6</td>\n",
       "      <td>2021</td>\n",
       "      <td>152</td>\n",
       "      <td>1</td>\n",
       "      <td>22</td>\n",
       "    </tr>\n",
       "    <tr>\n",
       "      <th>27</th>\n",
       "      <td>09:00:00</td>\n",
       "      <td>1</td>\n",
       "      <td>2</td>\n",
       "      <td>6</td>\n",
       "      <td>2021</td>\n",
       "      <td>152</td>\n",
       "      <td>1</td>\n",
       "      <td>22</td>\n",
       "    </tr>\n",
       "    <tr>\n",
       "      <th>29</th>\n",
       "      <td>09:00:00</td>\n",
       "      <td>1</td>\n",
       "      <td>2</td>\n",
       "      <td>6</td>\n",
       "      <td>2021</td>\n",
       "      <td>152</td>\n",
       "      <td>1</td>\n",
       "      <td>22</td>\n",
       "    </tr>\n",
       "    <tr>\n",
       "      <th>30</th>\n",
       "      <td>10:00:00</td>\n",
       "      <td>1</td>\n",
       "      <td>2</td>\n",
       "      <td>6</td>\n",
       "      <td>2021</td>\n",
       "      <td>152</td>\n",
       "      <td>1</td>\n",
       "      <td>22</td>\n",
       "    </tr>\n",
       "    <tr>\n",
       "      <th>96</th>\n",
       "      <td>08:00:00</td>\n",
       "      <td>2</td>\n",
       "      <td>2</td>\n",
       "      <td>6</td>\n",
       "      <td>2021</td>\n",
       "      <td>153</td>\n",
       "      <td>2</td>\n",
       "      <td>22</td>\n",
       "    </tr>\n",
       "    <tr>\n",
       "      <th>...</th>\n",
       "      <td>...</td>\n",
       "      <td>...</td>\n",
       "      <td>...</td>\n",
       "      <td>...</td>\n",
       "      <td>...</td>\n",
       "      <td>...</td>\n",
       "      <td>...</td>\n",
       "      <td>...</td>\n",
       "    </tr>\n",
       "    <tr>\n",
       "      <th>24149</th>\n",
       "      <td>21:00:00</td>\n",
       "      <td>1</td>\n",
       "      <td>2</td>\n",
       "      <td>5</td>\n",
       "      <td>2022</td>\n",
       "      <td>151</td>\n",
       "      <td>31</td>\n",
       "      <td>22</td>\n",
       "    </tr>\n",
       "    <tr>\n",
       "      <th>24150</th>\n",
       "      <td>22:00:00</td>\n",
       "      <td>1</td>\n",
       "      <td>2</td>\n",
       "      <td>5</td>\n",
       "      <td>2022</td>\n",
       "      <td>151</td>\n",
       "      <td>31</td>\n",
       "      <td>22</td>\n",
       "    </tr>\n",
       "    <tr>\n",
       "      <th>24152</th>\n",
       "      <td>22:00:00</td>\n",
       "      <td>1</td>\n",
       "      <td>2</td>\n",
       "      <td>5</td>\n",
       "      <td>2022</td>\n",
       "      <td>151</td>\n",
       "      <td>31</td>\n",
       "      <td>22</td>\n",
       "    </tr>\n",
       "    <tr>\n",
       "      <th>24153</th>\n",
       "      <td>23:00:00</td>\n",
       "      <td>1</td>\n",
       "      <td>2</td>\n",
       "      <td>5</td>\n",
       "      <td>2022</td>\n",
       "      <td>151</td>\n",
       "      <td>31</td>\n",
       "      <td>22</td>\n",
       "    </tr>\n",
       "    <tr>\n",
       "      <th>24155</th>\n",
       "      <td>23:00:00</td>\n",
       "      <td>1</td>\n",
       "      <td>2</td>\n",
       "      <td>5</td>\n",
       "      <td>2022</td>\n",
       "      <td>151</td>\n",
       "      <td>31</td>\n",
       "      <td>22</td>\n",
       "    </tr>\n",
       "  </tbody>\n",
       "</table>\n",
       "<p>1174 rows × 8 columns</p>\n",
       "</div>"
      ],
      "text/plain": [
       "           hour  dayofweek  quarter  month  year  dayofyear  dayofmonth  \\\n",
       "24     08:00:00          1        2      6  2021        152           1   \n",
       "27     09:00:00          1        2      6  2021        152           1   \n",
       "29     09:00:00          1        2      6  2021        152           1   \n",
       "30     10:00:00          1        2      6  2021        152           1   \n",
       "96     08:00:00          2        2      6  2021        153           2   \n",
       "...         ...        ...      ...    ...   ...        ...         ...   \n",
       "24149  21:00:00          1        2      5  2022        151          31   \n",
       "24150  22:00:00          1        2      5  2022        151          31   \n",
       "24152  22:00:00          1        2      5  2022        151          31   \n",
       "24153  23:00:00          1        2      5  2022        151          31   \n",
       "24155  23:00:00          1        2      5  2022        151          31   \n",
       "\n",
       "       weekofyear  \n",
       "24             22  \n",
       "27             22  \n",
       "29             22  \n",
       "30             22  \n",
       "96             22  \n",
       "...           ...  \n",
       "24149          22  \n",
       "24150          22  \n",
       "24152          22  \n",
       "24153          22  \n",
       "24155          22  \n",
       "\n",
       "[1174 rows x 8 columns]"
      ]
     },
     "execution_count": 181,
     "metadata": {},
     "output_type": "execute_result"
    }
   ],
   "source": [
    "df3"
   ]
  },
  {
   "cell_type": "code",
   "execution_count": 194,
   "id": "c0d0c370",
   "metadata": {},
   "outputs": [],
   "source": [
    "df5= pd.concat([df3,df2],axis=1)"
   ]
  },
  {
   "cell_type": "code",
   "execution_count": 197,
   "id": "99f7493f",
   "metadata": {},
   "outputs": [],
   "source": [
    "df5 = df5.drop(columns=['RealAvailabilityPerc (%)','Actual Generation'])"
   ]
  },
  {
   "cell_type": "code",
   "execution_count": 220,
   "id": "76d7afa6",
   "metadata": {},
   "outputs": [],
   "source": [
    "df5['hour'] = df5['hour'].astype(str).str[:2]"
   ]
  },
  {
   "cell_type": "code",
   "execution_count": 222,
   "id": "4839baf0",
   "metadata": {},
   "outputs": [],
   "source": [
    "df5 = df5.drop(columns=['Hour'])"
   ]
  },
  {
   "cell_type": "code",
   "execution_count": 230,
   "id": "8d92f26c",
   "metadata": {},
   "outputs": [],
   "source": [
    "df5['hour'] = df5['hour'].astype(int)"
   ]
  },
  {
   "cell_type": "code",
   "execution_count": 199,
   "id": "363c0aef",
   "metadata": {},
   "outputs": [],
   "source": [
    "import numpy as np\n",
    "from sklearn.model_selection import GridSearchCV\n",
    "from sklearn.model_selection import cross_val_score, KFold\n",
    "from sklearn.metrics import mean_squared_error as MSE\n",
    "from xgboost import XGBRegressor"
   ]
  },
  {
   "cell_type": "code",
   "execution_count": 300,
   "id": "4cb248a4",
   "metadata": {},
   "outputs": [],
   "source": [
    "from sklearn.model_selection import train_test_split\n",
    "y = df5.iloc[:, -2]\n",
    "X = df5.drop(columns = ['Upscaled Generation','Deviation','Datekey'])"
   ]
  },
  {
   "cell_type": "code",
   "execution_count": 301,
   "id": "4eae270a",
   "metadata": {},
   "outputs": [
    {
     "data": {
      "text/plain": [
       "24       40.419812\n",
       "27       38.979423\n",
       "29       38.979423\n",
       "30       19.697379\n",
       "96       28.539837\n",
       "           ...    \n",
       "24149    53.418200\n",
       "24150    46.873924\n",
       "24152    46.873924\n",
       "24153    39.214489\n",
       "24155    39.214489\n",
       "Name: Upscaled Generation, Length: 1174, dtype: float64"
      ]
     },
     "execution_count": 301,
     "metadata": {},
     "output_type": "execute_result"
    }
   ],
   "source": [
    "y"
   ]
  },
  {
   "cell_type": "code",
   "execution_count": 302,
   "id": "807ed0ee",
   "metadata": {},
   "outputs": [],
   "source": [
    "X_train, X_test, y_train, y_test = train_test_split(X, y, random_state=2)"
   ]
  },
  {
   "cell_type": "code",
   "execution_count": 303,
   "id": "e2dbbf9f",
   "metadata": {},
   "outputs": [],
   "source": [
    "kfold = KFold(n_splits=5, shuffle=True, random_state=2)"
   ]
  },
  {
   "cell_type": "code",
   "execution_count": 304,
   "id": "633049e4",
   "metadata": {},
   "outputs": [],
   "source": [
    "def cross_val(model):\n",
    "    scores = cross_val_score(model, X_train, y_train, scoring='neg_root_mean_squared_error', cv=kfold)\n",
    "    rmse = (-scores.mean())\n",
    "    return rmse"
   ]
  },
  {
   "cell_type": "code",
   "execution_count": 305,
   "id": "26f4206b",
   "metadata": {},
   "outputs": [],
   "source": [
    "from sklearn.preprocessing import OneHotEncoder\n",
    "class SparseMatrix(TransformerMixin):\n",
    "    def __init__(self):\n",
    "        None\n",
    "    def fit(self, X, y=None):\n",
    "        return self\n",
    "    def transform(self, X, y=None):\n",
    "        categorical_columns= X.columns[X.dtypes==object].tolist()\n",
    "        ohe = OneHotEncoder() \n",
    "        hot = ohe.fit_transform(X[categorical_columns])\n",
    "        cold_df = X.select_dtypes(exclude=[\"object\"])\n",
    "        cold = csr_matrix(cold_df)\n",
    "        final_sparse_matrix = hstack((hot, cold))\n",
    "        final_csr_matrix = final_sparse_matrix.tocsr()\n",
    "        return final_csr_matrix"
   ]
  },
  {
   "cell_type": "code",
   "execution_count": 306,
   "id": "32277cd0",
   "metadata": {},
   "outputs": [
    {
     "data": {
      "text/plain": [
       "13.288265625655631"
      ]
     },
     "execution_count": 306,
     "metadata": {},
     "output_type": "execute_result"
    }
   ],
   "source": [
    "cross_val(XGBRegressor())"
   ]
  },
  {
   "cell_type": "code",
   "execution_count": 307,
   "id": "df079c44",
   "metadata": {},
   "outputs": [],
   "source": [
    "X_train_2, X_test_2, y_train_2, y_test_2 = train_test_split(X_train, y_train, random_state=2)"
   ]
  },
  {
   "cell_type": "code",
   "execution_count": 308,
   "id": "03f199f0",
   "metadata": {},
   "outputs": [],
   "source": [
    "def n_estimators(model):\n",
    "    eval_set = [(X_test_2, y_test_2)]\n",
    "    eval_metric=\"rmse\"\n",
    "    model.fit(X_train_2, y_train_2, eval_metric=eval_metric, eval_set=eval_set, early_stopping_rounds=100)\n",
    "    y_pred = model.predict(X_test_2)\n",
    "    rmse = MSE(y_test_2, y_pred)**0.5\n",
    "    return rmse "
   ]
  },
  {
   "cell_type": "code",
   "execution_count": 309,
   "id": "5a20f855",
   "metadata": {},
   "outputs": [
    {
     "name": "stdout",
     "output_type": "stream",
     "text": [
      "[0]\tvalidation_0-rmse:37.56762\n",
      "[1]\tvalidation_0-rmse:28.95762\n",
      "[2]\tvalidation_0-rmse:23.25973\n",
      "[3]\tvalidation_0-rmse:19.48057\n",
      "[4]\tvalidation_0-rmse:17.36396\n",
      "[5]\tvalidation_0-rmse:16.12752\n",
      "[6]\tvalidation_0-rmse:15.44230\n",
      "[7]\tvalidation_0-rmse:15.15058\n",
      "[8]\tvalidation_0-rmse:14.43775\n",
      "[9]\tvalidation_0-rmse:14.17430\n",
      "[10]\tvalidation_0-rmse:13.95292\n",
      "[11]\tvalidation_0-rmse:13.90978\n",
      "[12]\tvalidation_0-rmse:13.79999\n",
      "[13]\tvalidation_0-rmse:13.67793\n",
      "[14]\tvalidation_0-rmse:13.42206\n",
      "[15]\tvalidation_0-rmse:13.34447\n",
      "[16]\tvalidation_0-rmse:13.26483\n",
      "[17]\tvalidation_0-rmse:13.22120\n",
      "[18]\tvalidation_0-rmse:13.21154\n",
      "[19]\tvalidation_0-rmse:13.26010\n",
      "[20]\tvalidation_0-rmse:13.30509\n",
      "[21]\tvalidation_0-rmse:13.33872\n",
      "[22]\tvalidation_0-rmse:13.22408\n",
      "[23]\tvalidation_0-rmse:13.11985\n",
      "[24]\tvalidation_0-rmse:13.09764\n",
      "[25]\tvalidation_0-rmse:13.03260\n",
      "[26]\tvalidation_0-rmse:13.01784\n",
      "[27]\tvalidation_0-rmse:12.94456\n",
      "[28]\tvalidation_0-rmse:12.91330\n",
      "[29]\tvalidation_0-rmse:12.87886\n",
      "[30]\tvalidation_0-rmse:12.85916\n"
     ]
    },
    {
     "name": "stderr",
     "output_type": "stream",
     "text": [
      "/opt/anaconda3/envs/Spyder_env/lib/python3.8/site-packages/xgboost/sklearn.py:793: UserWarning: `eval_metric` in `fit` method is deprecated for better compatibility with scikit-learn, use `eval_metric` in constructor or`set_params` instead.\n",
      "  warnings.warn(\n",
      "/opt/anaconda3/envs/Spyder_env/lib/python3.8/site-packages/xgboost/sklearn.py:793: UserWarning: `early_stopping_rounds` in `fit` method is deprecated for better compatibility with scikit-learn, use `early_stopping_rounds` in constructor or`set_params` instead.\n",
      "  warnings.warn(\n"
     ]
    },
    {
     "name": "stdout",
     "output_type": "stream",
     "text": [
      "[31]\tvalidation_0-rmse:12.86516\n",
      "[32]\tvalidation_0-rmse:12.87241\n",
      "[33]\tvalidation_0-rmse:12.81613\n",
      "[34]\tvalidation_0-rmse:12.81463\n",
      "[35]\tvalidation_0-rmse:12.78053\n",
      "[36]\tvalidation_0-rmse:12.78576\n",
      "[37]\tvalidation_0-rmse:12.75944\n",
      "[38]\tvalidation_0-rmse:12.70439\n",
      "[39]\tvalidation_0-rmse:12.70122\n",
      "[40]\tvalidation_0-rmse:12.62277\n",
      "[41]\tvalidation_0-rmse:12.62302\n",
      "[42]\tvalidation_0-rmse:12.65543\n",
      "[43]\tvalidation_0-rmse:12.67965\n",
      "[44]\tvalidation_0-rmse:12.64223\n",
      "[45]\tvalidation_0-rmse:12.63292\n",
      "[46]\tvalidation_0-rmse:12.64127\n",
      "[47]\tvalidation_0-rmse:12.64094\n",
      "[48]\tvalidation_0-rmse:12.59966\n",
      "[49]\tvalidation_0-rmse:12.57506\n",
      "[50]\tvalidation_0-rmse:12.57804\n",
      "[51]\tvalidation_0-rmse:12.58477\n",
      "[52]\tvalidation_0-rmse:12.55857\n",
      "[53]\tvalidation_0-rmse:12.54897\n",
      "[54]\tvalidation_0-rmse:12.56050\n",
      "[55]\tvalidation_0-rmse:12.56002\n",
      "[56]\tvalidation_0-rmse:12.56795\n",
      "[57]\tvalidation_0-rmse:12.56729\n",
      "[58]\tvalidation_0-rmse:12.57302\n",
      "[59]\tvalidation_0-rmse:12.57594\n",
      "[60]\tvalidation_0-rmse:12.57227\n",
      "[61]\tvalidation_0-rmse:12.57447\n",
      "[62]\tvalidation_0-rmse:12.58892\n",
      "[63]\tvalidation_0-rmse:12.57675\n",
      "[64]\tvalidation_0-rmse:12.58501\n",
      "[65]\tvalidation_0-rmse:12.60426\n",
      "[66]\tvalidation_0-rmse:12.58930\n",
      "[67]\tvalidation_0-rmse:12.58500\n",
      "[68]\tvalidation_0-rmse:12.57578\n",
      "[69]\tvalidation_0-rmse:12.57457\n",
      "[70]\tvalidation_0-rmse:12.57120\n",
      "[71]\tvalidation_0-rmse:12.57142\n",
      "[72]\tvalidation_0-rmse:12.57748\n",
      "[73]\tvalidation_0-rmse:12.58184\n",
      "[74]\tvalidation_0-rmse:12.58073\n",
      "[75]\tvalidation_0-rmse:12.57461\n",
      "[76]\tvalidation_0-rmse:12.57548\n",
      "[77]\tvalidation_0-rmse:12.56075\n",
      "[78]\tvalidation_0-rmse:12.56394\n",
      "[79]\tvalidation_0-rmse:12.56281\n",
      "[80]\tvalidation_0-rmse:12.56512\n",
      "[81]\tvalidation_0-rmse:12.56526\n",
      "[82]\tvalidation_0-rmse:12.54910\n",
      "[83]\tvalidation_0-rmse:12.55575\n",
      "[84]\tvalidation_0-rmse:12.55596\n",
      "[85]\tvalidation_0-rmse:12.56350\n",
      "[86]\tvalidation_0-rmse:12.56646\n",
      "[87]\tvalidation_0-rmse:12.56597\n",
      "[88]\tvalidation_0-rmse:12.56265\n",
      "[89]\tvalidation_0-rmse:12.57213\n",
      "[90]\tvalidation_0-rmse:12.56863\n",
      "[91]\tvalidation_0-rmse:12.55863\n",
      "[92]\tvalidation_0-rmse:12.55202\n",
      "[93]\tvalidation_0-rmse:12.55793\n",
      "[94]\tvalidation_0-rmse:12.55631\n",
      "[95]\tvalidation_0-rmse:12.54597\n",
      "[96]\tvalidation_0-rmse:12.54781\n",
      "[97]\tvalidation_0-rmse:12.55291\n",
      "[98]\tvalidation_0-rmse:12.55306\n",
      "[99]\tvalidation_0-rmse:12.55340\n",
      "[100]\tvalidation_0-rmse:12.55780\n",
      "[101]\tvalidation_0-rmse:12.55978\n",
      "[102]\tvalidation_0-rmse:12.56224\n",
      "[103]\tvalidation_0-rmse:12.56519\n",
      "[104]\tvalidation_0-rmse:12.56255\n",
      "[105]\tvalidation_0-rmse:12.55653\n",
      "[106]\tvalidation_0-rmse:12.55615\n",
      "[107]\tvalidation_0-rmse:12.55709\n",
      "[108]\tvalidation_0-rmse:12.55171\n",
      "[109]\tvalidation_0-rmse:12.54908\n",
      "[110]\tvalidation_0-rmse:12.55876\n",
      "[111]\tvalidation_0-rmse:12.56015\n",
      "[112]\tvalidation_0-rmse:12.56079\n",
      "[113]\tvalidation_0-rmse:12.56240\n",
      "[114]\tvalidation_0-rmse:12.55999\n",
      "[115]\tvalidation_0-rmse:12.56031\n",
      "[116]\tvalidation_0-rmse:12.55959\n",
      "[117]\tvalidation_0-rmse:12.55536\n",
      "[118]\tvalidation_0-rmse:12.55491\n",
      "[119]\tvalidation_0-rmse:12.55571\n",
      "[120]\tvalidation_0-rmse:12.56049\n",
      "[121]\tvalidation_0-rmse:12.55901\n",
      "[122]\tvalidation_0-rmse:12.55870\n",
      "[123]\tvalidation_0-rmse:12.56367\n",
      "[124]\tvalidation_0-rmse:12.56438\n",
      "[125]\tvalidation_0-rmse:12.56656\n",
      "[126]\tvalidation_0-rmse:12.56867\n",
      "[127]\tvalidation_0-rmse:12.56715\n",
      "[128]\tvalidation_0-rmse:12.56820\n",
      "[129]\tvalidation_0-rmse:12.56985\n",
      "[130]\tvalidation_0-rmse:12.57011\n",
      "[131]\tvalidation_0-rmse:12.57399\n",
      "[132]\tvalidation_0-rmse:12.56906\n",
      "[133]\tvalidation_0-rmse:12.56858\n",
      "[134]\tvalidation_0-rmse:12.57060\n",
      "[135]\tvalidation_0-rmse:12.57002\n",
      "[136]\tvalidation_0-rmse:12.57021\n",
      "[137]\tvalidation_0-rmse:12.57295\n",
      "[138]\tvalidation_0-rmse:12.57228\n",
      "[139]\tvalidation_0-rmse:12.57262\n",
      "[140]\tvalidation_0-rmse:12.57238\n",
      "[141]\tvalidation_0-rmse:12.57271\n",
      "[142]\tvalidation_0-rmse:12.57170\n",
      "[143]\tvalidation_0-rmse:12.57263\n",
      "[144]\tvalidation_0-rmse:12.57062\n",
      "[145]\tvalidation_0-rmse:12.57297\n",
      "[146]\tvalidation_0-rmse:12.57264\n",
      "[147]\tvalidation_0-rmse:12.57295\n",
      "[148]\tvalidation_0-rmse:12.57197\n",
      "[149]\tvalidation_0-rmse:12.57079\n",
      "[150]\tvalidation_0-rmse:12.57023\n",
      "[151]\tvalidation_0-rmse:12.56832\n",
      "[152]\tvalidation_0-rmse:12.56903\n",
      "[153]\tvalidation_0-rmse:12.56923\n",
      "[154]\tvalidation_0-rmse:12.57034\n",
      "[155]\tvalidation_0-rmse:12.56880\n",
      "[156]\tvalidation_0-rmse:12.57053\n",
      "[157]\tvalidation_0-rmse:12.57005\n",
      "[158]\tvalidation_0-rmse:12.57078\n",
      "[159]\tvalidation_0-rmse:12.56894\n",
      "[160]\tvalidation_0-rmse:12.57042\n",
      "[161]\tvalidation_0-rmse:12.57041\n",
      "[162]\tvalidation_0-rmse:12.57096\n",
      "[163]\tvalidation_0-rmse:12.57159\n",
      "[164]\tvalidation_0-rmse:12.57219\n",
      "[165]\tvalidation_0-rmse:12.57252\n",
      "[166]\tvalidation_0-rmse:12.57409\n",
      "[167]\tvalidation_0-rmse:12.57479\n",
      "[168]\tvalidation_0-rmse:12.57486\n",
      "[169]\tvalidation_0-rmse:12.57439\n",
      "[170]\tvalidation_0-rmse:12.57470\n",
      "[171]\tvalidation_0-rmse:12.57458\n",
      "[172]\tvalidation_0-rmse:12.57635\n",
      "[173]\tvalidation_0-rmse:12.57760\n",
      "[174]\tvalidation_0-rmse:12.57753\n",
      "[175]\tvalidation_0-rmse:12.57788\n",
      "[176]\tvalidation_0-rmse:12.57701\n",
      "[177]\tvalidation_0-rmse:12.57658\n",
      "[178]\tvalidation_0-rmse:12.57707\n",
      "[179]\tvalidation_0-rmse:12.57763\n",
      "[180]\tvalidation_0-rmse:12.57667\n",
      "[181]\tvalidation_0-rmse:12.57642\n",
      "[182]\tvalidation_0-rmse:12.57630\n",
      "[183]\tvalidation_0-rmse:12.57634\n",
      "[184]\tvalidation_0-rmse:12.57653\n",
      "[185]\tvalidation_0-rmse:12.57699\n",
      "[186]\tvalidation_0-rmse:12.57640\n",
      "[187]\tvalidation_0-rmse:12.57628\n",
      "[188]\tvalidation_0-rmse:12.57620\n",
      "[189]\tvalidation_0-rmse:12.57601\n",
      "[190]\tvalidation_0-rmse:12.57650\n",
      "[191]\tvalidation_0-rmse:12.57648\n",
      "[192]\tvalidation_0-rmse:12.57640\n",
      "[193]\tvalidation_0-rmse:12.57649\n",
      "[194]\tvalidation_0-rmse:12.57674\n"
     ]
    },
    {
     "data": {
      "text/plain": [
       "12.545966943454777"
      ]
     },
     "execution_count": 309,
     "metadata": {},
     "output_type": "execute_result"
    }
   ],
   "source": [
    "n_estimators(XGBRegressor(n_estimators=5000))"
   ]
  },
  {
   "cell_type": "markdown",
   "id": "5312308f",
   "metadata": {},
   "source": [
    "nestimators 36"
   ]
  },
  {
   "cell_type": "code",
   "execution_count": 243,
   "id": "1a9cf4a6",
   "metadata": {},
   "outputs": [],
   "source": [
    "def grid_search(params, reg=XGBRegressor()):\n",
    "    grid_reg = GridSearchCV(reg, params, scoring='neg_mean_squared_error', cv=kfold)\n",
    "    grid_reg.fit(X_train, y_train)\n",
    "    best_params = grid_reg.best_params_\n",
    "    print(\"Best params:\", best_params)\n",
    "    best_score = np.sqrt(-grid_reg.best_score_)\n",
    "    print(\"Best score:\", best_score)"
   ]
  },
  {
   "cell_type": "code",
   "execution_count": 310,
   "id": "403ab2db",
   "metadata": {},
   "outputs": [
    {
     "name": "stdout",
     "output_type": "stream",
     "text": [
      "Best params: {'max_depth': 8, 'n_estimators': 53}\n",
      "Best score: 13.286295556121454\n"
     ]
    }
   ],
   "source": [
    "grid_search(params={'max_depth':[1, 2, 3, 4, 6, 7, 8], \n",
    "                    'n_estimators':[53]})"
   ]
  },
  {
   "cell_type": "code",
   "execution_count": 312,
   "id": "b1ba88b2",
   "metadata": {},
   "outputs": [
    {
     "name": "stdout",
     "output_type": "stream",
     "text": [
      "Best params: {'max_depth': 9, 'min_child_weight': 5, 'n_estimators': 53}\n",
      "Best score: 13.080196311016094\n"
     ]
    }
   ],
   "source": [
    "grid_search(params={'max_depth':[8,9], \n",
    "                    'min_child_weight':[1,2,3,4,5], \n",
    "                    'n_estimators':[53]})"
   ]
  },
  {
   "cell_type": "code",
   "execution_count": 313,
   "id": "cb1699de",
   "metadata": {},
   "outputs": [
    {
     "name": "stdout",
     "output_type": "stream",
     "text": [
      "Best params: {'max_depth': 9, 'min_child_weight': 5, 'n_estimators': 53, 'subsample': 0.9}\n",
      "Best score: 12.950034546798404\n"
     ]
    }
   ],
   "source": [
    "grid_search(params={'max_depth':[9],\n",
    "                    'min_child_weight':[5,6,7],\n",
    "                    'subsample':[0.5, 0.6, 0.7, 0.8, 0.9],\n",
    "                   'n_estimators':[53]})"
   ]
  },
  {
   "cell_type": "code",
   "execution_count": 314,
   "id": "63591592",
   "metadata": {},
   "outputs": [
    {
     "name": "stdout",
     "output_type": "stream",
     "text": [
      "Best params: {'colsample_bytree': 0.6, 'max_depth': 9, 'min_child_weight': 5, 'n_estimators': 53, 'subsample': 0.9}\n",
      "Best score: 12.330124935775988\n"
     ]
    }
   ],
   "source": [
    "grid_search(params={'max_depth':[9],\n",
    "                    'min_child_weight':[5], \n",
    "                    'subsample':[0.9,1], \n",
    "                    'colsample_bytree':[0.5, 0.6, 0.7, 0.8, 0.9, 1],\n",
    "                   'n_estimators':[53]})"
   ]
  },
  {
   "cell_type": "code",
   "execution_count": 315,
   "id": "b3d81d40",
   "metadata": {},
   "outputs": [
    {
     "name": "stdout",
     "output_type": "stream",
     "text": [
      "Best params: {'colsample_bylevel': 0.6, 'colsample_bynode': 0.8, 'colsample_bytree': 0.6, 'max_depth': 9, 'min_child_weight': 5, 'n_estimators': 53, 'subsample': 0.9}\n",
      "Best score: 12.304391280935567\n"
     ]
    }
   ],
   "source": [
    "grid_search(params={'max_depth':[9],\n",
    "                    'min_child_weight':[5], \n",
    "                    'subsample':[.9], \n",
    "                    'colsample_bytree':[0.6],\n",
    "                    'colsample_bylevel':[0.6, 0.7, 0.8, 0.9, 1],\n",
    "                    'colsample_bynode':[0.6, 0.7, 0.8, 0.9, 1],\n",
    "                    'n_estimators':[53]})"
   ]
  },
  {
   "cell_type": "code",
   "execution_count": 316,
   "id": "012bdf65",
   "metadata": {},
   "outputs": [
    {
     "data": {
      "text/plain": [
       "12.616377242326198"
      ]
     },
     "execution_count": 316,
     "metadata": {},
     "output_type": "execute_result"
    }
   ],
   "source": [
    "cross_val(XGBRegressor(max_depth=9,\n",
    "                       min_child_weight=5,\n",
    "                       subsample=0.9, \n",
    "                       colsample_bytree=0.6, \n",
    "                       colsample_bylevel=0.6,\n",
    "                       colsample_bynode=0.8, \n",
    "                       n_estimators=53,\n",
    "                       booster='dart',\n",
    "                      one_drop=True))"
   ]
  },
  {
   "cell_type": "code",
   "execution_count": 317,
   "id": "53943026",
   "metadata": {},
   "outputs": [
    {
     "data": {
      "text/plain": [
       "10.973018665675863"
      ]
     },
     "execution_count": 317,
     "metadata": {},
     "output_type": "execute_result"
    }
   ],
   "source": [
    "model = XGBRegressor(max_depth=6,\n",
    "                       min_child_weight=1,\n",
    "                       subsample=0.9, \n",
    "                       colsample_bytree=1, \n",
    "                       colsample_bylevel=1,\n",
    "                       colsample_bynode=1, \n",
    "                       n_estimators=50,\n",
    "                       booster='dart',\n",
    "                      one_drop=True)\n",
    "model.fit(X_train, y_train)\n",
    "y_pred = model.predict(X_test)\n",
    "rmse = MSE(y_pred, y_test)**0.5\n",
    "rmse"
   ]
  },
  {
   "cell_type": "code",
   "execution_count": 361,
   "id": "808a9a43",
   "metadata": {},
   "outputs": [
    {
     "ename": "TypeError",
     "evalue": "__init__() got multiple values for argument 'index'",
     "output_type": "error",
     "traceback": [
      "\u001b[0;31m---------------------------------------------------------------------------\u001b[0m",
      "\u001b[0;31mTypeError\u001b[0m                                 Traceback (most recent call last)",
      "\u001b[0;32m/var/folders/62/w43vm99x0js0czbjx16552nm0000gn/T/ipykernel_18596/3598521638.py\u001b[0m in \u001b[0;36m<cell line: 2>\u001b[0;34m()\u001b[0m\n\u001b[1;32m      1\u001b[0m \u001b[0;32mfrom\u001b[0m \u001b[0msklearn\u001b[0m\u001b[0;34m.\u001b[0m\u001b[0mmetrics\u001b[0m \u001b[0;32mimport\u001b[0m \u001b[0maccuracy_score\u001b[0m \u001b[0;32mas\u001b[0m \u001b[0maccuracy\u001b[0m\u001b[0;34m\u001b[0m\u001b[0;34m\u001b[0m\u001b[0m\n\u001b[0;32m----> 2\u001b[0;31m \u001b[0mt\u001b[0m \u001b[0;34m=\u001b[0m \u001b[0mpd\u001b[0m\u001b[0;34m.\u001b[0m\u001b[0mDataFrame\u001b[0m\u001b[0;34m(\u001b[0m\u001b[0my_pred\u001b[0m\u001b[0;34m,\u001b[0m \u001b[0my_test\u001b[0m\u001b[0;34m,\u001b[0m\u001b[0mindex\u001b[0m\u001b[0;34m=\u001b[0m\u001b[0;32mFalse\u001b[0m\u001b[0;34m)\u001b[0m\u001b[0;34m\u001b[0m\u001b[0;34m\u001b[0m\u001b[0m\n\u001b[0m",
      "\u001b[0;31mTypeError\u001b[0m: __init__() got multiple values for argument 'index'"
     ]
    }
   ],
   "source": [
    "from sklearn.metrics import accuracy_score as accuracy\n",
    "t = pd.DataFrame(y_pred, y_test)"
   ]
  },
  {
   "cell_type": "code",
   "execution_count": 371,
   "id": "7242994d",
   "metadata": {},
   "outputs": [],
   "source": [
    "z = pd.concat([t,sd],axis=1)"
   ]
  },
  {
   "cell_type": "code",
   "execution_count": 364,
   "id": "07414816",
   "metadata": {},
   "outputs": [],
   "source": [
    "t = t.reset_index()"
   ]
  },
  {
   "cell_type": "code",
   "execution_count": 379,
   "id": "26c2f063",
   "metadata": {},
   "outputs": [],
   "source": [
    "z_bir = z[z['id']==1]"
   ]
  },
  {
   "cell_type": "code",
   "execution_count": 377,
   "id": "42cd02b6",
   "metadata": {},
   "outputs": [],
   "source": [
    "z.columns = ['true','pred','id']"
   ]
  },
  {
   "cell_type": "code",
   "execution_count": 388,
   "id": "e34881aa",
   "metadata": {},
   "outputs": [
    {
     "data": {
      "text/plain": [
       "11.213253794802059"
      ]
     },
     "execution_count": 388,
     "metadata": {},
     "output_type": "execute_result"
    }
   ],
   "source": [
    "rmse1 = MSE(z_bir['pred'], z_bir['true'])**0.5\n",
    "rmse1"
   ]
  },
  {
   "cell_type": "code",
   "execution_count": 389,
   "id": "a3891e03",
   "metadata": {},
   "outputs": [
    {
     "data": {
      "text/plain": [
       "10.687142898756516"
      ]
     },
     "execution_count": 389,
     "metadata": {},
     "output_type": "execute_result"
    }
   ],
   "source": [
    "rmse2 = MSE(z_uc['pred'], z_uc['true'])**0.5\n",
    "rmse2"
   ]
  },
  {
   "cell_type": "code",
   "execution_count": 393,
   "id": "23d6e87a",
   "metadata": {},
   "outputs": [
    {
     "data": {
      "text/plain": [
       "48.79885532804004"
      ]
     },
     "execution_count": 393,
     "metadata": {},
     "output_type": "execute_result"
    }
   ],
   "source": [
    "rmse2*100/(rmse1+rmse2) 0.488"
   ]
  },
  {
   "cell_type": "code",
   "execution_count": 394,
   "id": "ae88fe83",
   "metadata": {},
   "outputs": [
    {
     "data": {
      "text/plain": [
       "51.20114467195994"
      ]
     },
     "execution_count": 394,
     "metadata": {},
     "output_type": "execute_result"
    }
   ],
   "source": [
    "rmse1*100/(rmse1+rmse2) 0.512"
   ]
  },
  {
   "cell_type": "code",
   "execution_count": 380,
   "id": "a76a787a",
   "metadata": {},
   "outputs": [],
   "source": [
    "z_uc = z[z['id']==3]"
   ]
  },
  {
   "cell_type": "code",
   "execution_count": 367,
   "id": "0e02cb9c",
   "metadata": {},
   "outputs": [],
   "source": [
    "sd = X_test['ProviderId'].reset_index()"
   ]
  },
  {
   "cell_type": "code",
   "execution_count": 370,
   "id": "7dd8dcd7",
   "metadata": {},
   "outputs": [],
   "source": [
    "sd = sd.drop(columns='index')"
   ]
  },
  {
   "cell_type": "code",
   "execution_count": 288,
   "id": "7133478e",
   "metadata": {},
   "outputs": [],
   "source": [
    "X_train = X_train.iloc[:,:-1]"
   ]
  },
  {
   "cell_type": "code",
   "execution_count": 290,
   "id": "b0433f37",
   "metadata": {},
   "outputs": [],
   "source": [
    "X_test = X_test.iloc[:,:-1]"
   ]
  },
  {
   "cell_type": "code",
   "execution_count": 293,
   "id": "890d6609",
   "metadata": {},
   "outputs": [
    {
     "data": {
      "text/plain": [
       "(293, 16)"
      ]
     },
     "execution_count": 293,
     "metadata": {},
     "output_type": "execute_result"
    }
   ],
   "source": [
    "X_test.shape"
   ]
  },
  {
   "cell_type": "code",
   "execution_count": 322,
   "id": "42746d30",
   "metadata": {},
   "outputs": [
    {
     "data": {
      "text/html": [
       "<div>\n",
       "<style scoped>\n",
       "    .dataframe tbody tr th:only-of-type {\n",
       "        vertical-align: middle;\n",
       "    }\n",
       "\n",
       "    .dataframe tbody tr th {\n",
       "        vertical-align: top;\n",
       "    }\n",
       "\n",
       "    .dataframe thead th {\n",
       "        text-align: right;\n",
       "    }\n",
       "</style>\n",
       "<table border=\"1\" class=\"dataframe\">\n",
       "  <thead>\n",
       "    <tr style=\"text-align: right;\">\n",
       "      <th></th>\n",
       "      <th>hour</th>\n",
       "      <th>dayofweek</th>\n",
       "      <th>quarter</th>\n",
       "      <th>month</th>\n",
       "      <th>year</th>\n",
       "      <th>dayofyear</th>\n",
       "      <th>dayofmonth</th>\n",
       "      <th>weekofyear</th>\n",
       "      <th>ProviderId</th>\n",
       "      <th>WindSpeed</th>\n",
       "      <th>WindDirection</th>\n",
       "      <th>Temperature</th>\n",
       "      <th>Pressure</th>\n",
       "      <th>Humidity</th>\n",
       "      <th>Power Forecast</th>\n",
       "    </tr>\n",
       "  </thead>\n",
       "  <tbody>\n",
       "    <tr>\n",
       "      <th>23303</th>\n",
       "      <td>3</td>\n",
       "      <td>4</td>\n",
       "      <td>2</td>\n",
       "      <td>5</td>\n",
       "      <td>2022</td>\n",
       "      <td>140</td>\n",
       "      <td>20</td>\n",
       "      <td>20</td>\n",
       "      <td>3</td>\n",
       "      <td>7.0</td>\n",
       "      <td>30.0</td>\n",
       "      <td>10.0</td>\n",
       "      <td>97000</td>\n",
       "      <td>0.83</td>\n",
       "      <td>45.078</td>\n",
       "    </tr>\n",
       "    <tr>\n",
       "      <th>3216</th>\n",
       "      <td>20</td>\n",
       "      <td>3</td>\n",
       "      <td>3</td>\n",
       "      <td>7</td>\n",
       "      <td>2021</td>\n",
       "      <td>196</td>\n",
       "      <td>15</td>\n",
       "      <td>28</td>\n",
       "      <td>1</td>\n",
       "      <td>11.9</td>\n",
       "      <td>48.0</td>\n",
       "      <td>26.2</td>\n",
       "      <td>99661</td>\n",
       "      <td>63.26</td>\n",
       "      <td>66.544</td>\n",
       "    </tr>\n",
       "    <tr>\n",
       "      <th>2928</th>\n",
       "      <td>20</td>\n",
       "      <td>6</td>\n",
       "      <td>3</td>\n",
       "      <td>7</td>\n",
       "      <td>2021</td>\n",
       "      <td>192</td>\n",
       "      <td>11</td>\n",
       "      <td>27</td>\n",
       "      <td>1</td>\n",
       "      <td>11.3</td>\n",
       "      <td>38.0</td>\n",
       "      <td>25.4</td>\n",
       "      <td>99767</td>\n",
       "      <td>67.15</td>\n",
       "      <td>61.453</td>\n",
       "    </tr>\n",
       "    <tr>\n",
       "      <th>3267</th>\n",
       "      <td>13</td>\n",
       "      <td>4</td>\n",
       "      <td>3</td>\n",
       "      <td>7</td>\n",
       "      <td>2021</td>\n",
       "      <td>197</td>\n",
       "      <td>16</td>\n",
       "      <td>28</td>\n",
       "      <td>1</td>\n",
       "      <td>7.4</td>\n",
       "      <td>45.0</td>\n",
       "      <td>30.2</td>\n",
       "      <td>99305</td>\n",
       "      <td>57.04</td>\n",
       "      <td>41.074</td>\n",
       "    </tr>\n",
       "    <tr>\n",
       "      <th>3674</th>\n",
       "      <td>4</td>\n",
       "      <td>3</td>\n",
       "      <td>3</td>\n",
       "      <td>7</td>\n",
       "      <td>2021</td>\n",
       "      <td>203</td>\n",
       "      <td>22</td>\n",
       "      <td>29</td>\n",
       "      <td>3</td>\n",
       "      <td>8.8</td>\n",
       "      <td>30.0</td>\n",
       "      <td>21.0</td>\n",
       "      <td>96100</td>\n",
       "      <td>0.76</td>\n",
       "      <td>39.195</td>\n",
       "    </tr>\n",
       "  </tbody>\n",
       "</table>\n",
       "</div>"
      ],
      "text/plain": [
       "       hour  dayofweek  quarter  month  year  dayofyear  dayofmonth  \\\n",
       "23303     3          4        2      5  2022        140          20   \n",
       "3216     20          3        3      7  2021        196          15   \n",
       "2928     20          6        3      7  2021        192          11   \n",
       "3267     13          4        3      7  2021        197          16   \n",
       "3674      4          3        3      7  2021        203          22   \n",
       "\n",
       "       weekofyear  ProviderId  WindSpeed  WindDirection  Temperature  \\\n",
       "23303          20           3        7.0           30.0         10.0   \n",
       "3216           28           1       11.9           48.0         26.2   \n",
       "2928           27           1       11.3           38.0         25.4   \n",
       "3267           28           1        7.4           45.0         30.2   \n",
       "3674           29           3        8.8           30.0         21.0   \n",
       "\n",
       "       Pressure  Humidity  Power Forecast  \n",
       "23303     97000      0.83          45.078  \n",
       "3216      99661     63.26          66.544  \n",
       "2928      99767     67.15          61.453  \n",
       "3267      99305     57.04          41.074  \n",
       "3674      96100      0.76          39.195  "
      ]
     },
     "execution_count": 322,
     "metadata": {},
     "output_type": "execute_result"
    }
   ],
   "source": [
    "X_train.tail()"
   ]
  },
  {
   "cell_type": "code",
   "execution_count": 345,
   "id": "409f52ce",
   "metadata": {},
   "outputs": [],
   "source": [
    "y_pred_input = model.predict(df9)"
   ]
  },
  {
   "cell_type": "code",
   "execution_count": 347,
   "id": "6fd75ab6",
   "metadata": {},
   "outputs": [],
   "source": [
    "y_son = pd.DataFrame(y_pred_input)"
   ]
  },
  {
   "cell_type": "code",
   "execution_count": 351,
   "id": "67a66ba1",
   "metadata": {},
   "outputs": [
    {
     "data": {
      "text/html": [
       "<div>\n",
       "<style scoped>\n",
       "    .dataframe tbody tr th:only-of-type {\n",
       "        vertical-align: middle;\n",
       "    }\n",
       "\n",
       "    .dataframe tbody tr th {\n",
       "        vertical-align: top;\n",
       "    }\n",
       "\n",
       "    .dataframe thead th {\n",
       "        text-align: right;\n",
       "    }\n",
       "</style>\n",
       "<table border=\"1\" class=\"dataframe\">\n",
       "  <thead>\n",
       "    <tr style=\"text-align: right;\">\n",
       "      <th></th>\n",
       "      <th>0</th>\n",
       "    </tr>\n",
       "  </thead>\n",
       "  <tbody>\n",
       "    <tr>\n",
       "      <th>0</th>\n",
       "      <td>47.314289</td>\n",
       "    </tr>\n",
       "    <tr>\n",
       "      <th>1</th>\n",
       "      <td>38.794304</td>\n",
       "    </tr>\n",
       "    <tr>\n",
       "      <th>2</th>\n",
       "      <td>46.741512</td>\n",
       "    </tr>\n",
       "    <tr>\n",
       "      <th>3</th>\n",
       "      <td>36.221375</td>\n",
       "    </tr>\n",
       "    <tr>\n",
       "      <th>4</th>\n",
       "      <td>42.417881</td>\n",
       "    </tr>\n",
       "    <tr>\n",
       "      <th>5</th>\n",
       "      <td>38.763298</td>\n",
       "    </tr>\n",
       "    <tr>\n",
       "      <th>6</th>\n",
       "      <td>43.330654</td>\n",
       "    </tr>\n",
       "    <tr>\n",
       "      <th>7</th>\n",
       "      <td>37.750900</td>\n",
       "    </tr>\n",
       "    <tr>\n",
       "      <th>8</th>\n",
       "      <td>41.676666</td>\n",
       "    </tr>\n",
       "    <tr>\n",
       "      <th>9</th>\n",
       "      <td>37.478600</td>\n",
       "    </tr>\n",
       "    <tr>\n",
       "      <th>10</th>\n",
       "      <td>50.533920</td>\n",
       "    </tr>\n",
       "    <tr>\n",
       "      <th>11</th>\n",
       "      <td>40.927963</td>\n",
       "    </tr>\n",
       "    <tr>\n",
       "      <th>12</th>\n",
       "      <td>48.779602</td>\n",
       "    </tr>\n",
       "    <tr>\n",
       "      <th>13</th>\n",
       "      <td>39.242020</td>\n",
       "    </tr>\n",
       "    <tr>\n",
       "      <th>14</th>\n",
       "      <td>45.153618</td>\n",
       "    </tr>\n",
       "    <tr>\n",
       "      <th>15</th>\n",
       "      <td>39.112022</td>\n",
       "    </tr>\n",
       "    <tr>\n",
       "      <th>16</th>\n",
       "      <td>38.977596</td>\n",
       "    </tr>\n",
       "    <tr>\n",
       "      <th>17</th>\n",
       "      <td>35.866680</td>\n",
       "    </tr>\n",
       "    <tr>\n",
       "      <th>18</th>\n",
       "      <td>35.846577</td>\n",
       "    </tr>\n",
       "    <tr>\n",
       "      <th>19</th>\n",
       "      <td>36.501572</td>\n",
       "    </tr>\n",
       "    <tr>\n",
       "      <th>20</th>\n",
       "      <td>45.110447</td>\n",
       "    </tr>\n",
       "    <tr>\n",
       "      <th>21</th>\n",
       "      <td>41.317196</td>\n",
       "    </tr>\n",
       "    <tr>\n",
       "      <th>22</th>\n",
       "      <td>45.686592</td>\n",
       "    </tr>\n",
       "    <tr>\n",
       "      <th>23</th>\n",
       "      <td>41.685806</td>\n",
       "    </tr>\n",
       "    <tr>\n",
       "      <th>24</th>\n",
       "      <td>55.477982</td>\n",
       "    </tr>\n",
       "    <tr>\n",
       "      <th>25</th>\n",
       "      <td>49.231750</td>\n",
       "    </tr>\n",
       "    <tr>\n",
       "      <th>26</th>\n",
       "      <td>59.624557</td>\n",
       "    </tr>\n",
       "    <tr>\n",
       "      <th>27</th>\n",
       "      <td>57.315346</td>\n",
       "    </tr>\n",
       "    <tr>\n",
       "      <th>28</th>\n",
       "      <td>60.240295</td>\n",
       "    </tr>\n",
       "    <tr>\n",
       "      <th>29</th>\n",
       "      <td>55.685905</td>\n",
       "    </tr>\n",
       "    <tr>\n",
       "      <th>30</th>\n",
       "      <td>63.716011</td>\n",
       "    </tr>\n",
       "    <tr>\n",
       "      <th>31</th>\n",
       "      <td>57.261818</td>\n",
       "    </tr>\n",
       "    <tr>\n",
       "      <th>32</th>\n",
       "      <td>63.929794</td>\n",
       "    </tr>\n",
       "    <tr>\n",
       "      <th>33</th>\n",
       "      <td>53.482601</td>\n",
       "    </tr>\n",
       "    <tr>\n",
       "      <th>34</th>\n",
       "      <td>62.657925</td>\n",
       "    </tr>\n",
       "    <tr>\n",
       "      <th>35</th>\n",
       "      <td>54.635548</td>\n",
       "    </tr>\n",
       "    <tr>\n",
       "      <th>36</th>\n",
       "      <td>68.204514</td>\n",
       "    </tr>\n",
       "    <tr>\n",
       "      <th>37</th>\n",
       "      <td>63.283184</td>\n",
       "    </tr>\n",
       "    <tr>\n",
       "      <th>38</th>\n",
       "      <td>67.083450</td>\n",
       "    </tr>\n",
       "    <tr>\n",
       "      <th>39</th>\n",
       "      <td>55.608429</td>\n",
       "    </tr>\n",
       "    <tr>\n",
       "      <th>40</th>\n",
       "      <td>61.418930</td>\n",
       "    </tr>\n",
       "    <tr>\n",
       "      <th>41</th>\n",
       "      <td>59.254013</td>\n",
       "    </tr>\n",
       "    <tr>\n",
       "      <th>42</th>\n",
       "      <td>60.141518</td>\n",
       "    </tr>\n",
       "    <tr>\n",
       "      <th>43</th>\n",
       "      <td>61.967720</td>\n",
       "    </tr>\n",
       "    <tr>\n",
       "      <th>44</th>\n",
       "      <td>60.506756</td>\n",
       "    </tr>\n",
       "    <tr>\n",
       "      <th>45</th>\n",
       "      <td>47.049919</td>\n",
       "    </tr>\n",
       "    <tr>\n",
       "      <th>46</th>\n",
       "      <td>57.292622</td>\n",
       "    </tr>\n",
       "    <tr>\n",
       "      <th>47</th>\n",
       "      <td>50.574677</td>\n",
       "    </tr>\n",
       "  </tbody>\n",
       "</table>\n",
       "</div>"
      ],
      "text/plain": [
       "            0\n",
       "0   47.314289\n",
       "1   38.794304\n",
       "2   46.741512\n",
       "3   36.221375\n",
       "4   42.417881\n",
       "5   38.763298\n",
       "6   43.330654\n",
       "7   37.750900\n",
       "8   41.676666\n",
       "9   37.478600\n",
       "10  50.533920\n",
       "11  40.927963\n",
       "12  48.779602\n",
       "13  39.242020\n",
       "14  45.153618\n",
       "15  39.112022\n",
       "16  38.977596\n",
       "17  35.866680\n",
       "18  35.846577\n",
       "19  36.501572\n",
       "20  45.110447\n",
       "21  41.317196\n",
       "22  45.686592\n",
       "23  41.685806\n",
       "24  55.477982\n",
       "25  49.231750\n",
       "26  59.624557\n",
       "27  57.315346\n",
       "28  60.240295\n",
       "29  55.685905\n",
       "30  63.716011\n",
       "31  57.261818\n",
       "32  63.929794\n",
       "33  53.482601\n",
       "34  62.657925\n",
       "35  54.635548\n",
       "36  68.204514\n",
       "37  63.283184\n",
       "38  67.083450\n",
       "39  55.608429\n",
       "40  61.418930\n",
       "41  59.254013\n",
       "42  60.141518\n",
       "43  61.967720\n",
       "44  60.506756\n",
       "45  47.049919\n",
       "46  57.292622\n",
       "47  50.574677"
      ]
     },
     "execution_count": 351,
     "metadata": {},
     "output_type": "execute_result"
    }
   ],
   "source": [
    "y_son"
   ]
  },
  {
   "cell_type": "code",
   "execution_count": 352,
   "id": "8d6076b5",
   "metadata": {},
   "outputs": [],
   "source": [
    "y_son.to_excel('pred3.xlsx')"
   ]
  },
  {
   "cell_type": "code",
   "execution_count": null,
   "id": "9380f401",
   "metadata": {},
   "outputs": [],
   "source": []
  }
 ],
 "metadata": {
  "kernelspec": {
   "display_name": "Python 3 (ipykernel)",
   "language": "python",
   "name": "python3"
  },
  "language_info": {
   "codemirror_mode": {
    "name": "ipython",
    "version": 3
   },
   "file_extension": ".py",
   "mimetype": "text/x-python",
   "name": "python",
   "nbconvert_exporter": "python",
   "pygments_lexer": "ipython3",
   "version": "3.9.12"
  },
  "varInspector": {
   "cols": {
    "lenName": 16,
    "lenType": 16,
    "lenVar": 40
   },
   "kernels_config": {
    "python": {
     "delete_cmd_postfix": "",
     "delete_cmd_prefix": "del ",
     "library": "var_list.py",
     "varRefreshCmd": "print(var_dic_list())"
    },
    "r": {
     "delete_cmd_postfix": ") ",
     "delete_cmd_prefix": "rm(",
     "library": "var_list.r",
     "varRefreshCmd": "cat(var_dic_list()) "
    }
   },
   "types_to_exclude": [
    "module",
    "function",
    "builtin_function_or_method",
    "instance",
    "_Feature"
   ],
   "window_display": false
  }
 },
 "nbformat": 4,
 "nbformat_minor": 5
}
